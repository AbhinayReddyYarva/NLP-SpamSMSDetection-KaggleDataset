{
  "nbformat": 4,
  "nbformat_minor": 0,
  "metadata": {
    "colab": {
      "name": "ModelBuildEvaluateTPU.ipynb",
      "version": "0.3.2",
      "provenance": [],
      "collapsed_sections": [],
      "toc_visible": true,
      "include_colab_link": true
    },
    "language_info": {
      "codemirror_mode": {
        "name": "ipython",
        "version": 3
      },
      "file_extension": ".py",
      "mimetype": "text/x-python",
      "name": "python",
      "nbconvert_exporter": "python",
      "pygments_lexer": "ipython3",
      "version": "3.5.6"
    },
    "kernelspec": {
      "name": "python3",
      "display_name": "Python 3"
    },
    "accelerator": "TPU"
  },
  "cells": [
    {
      "cell_type": "markdown",
      "metadata": {
        "id": "view-in-github",
        "colab_type": "text"
      },
      "source": [
        "<a href=\"https://colab.research.google.com/github/AbhinayReddyYarva/NLP-SpamSMSDetection-KaggleDataset/blob/master/ModelBuildEvaluateTPU.ipynb\" target=\"_parent\"><img src=\"https://colab.research.google.com/assets/colab-badge.svg\" alt=\"Open In Colab\"/></a>"
      ]
    },
    {
      "cell_type": "markdown",
      "metadata": {
        "id": "wP7lt3FI2h4Z",
        "colab_type": "text"
      },
      "source": [
        "# Building ML Classifiers: Basic Random Forest & Gradient Boosting models (Running in Google colab with TPU)"
      ]
    },
    {
      "cell_type": "markdown",
      "metadata": {
        "id": "5U0cNcLU2h4a",
        "colab_type": "text"
      },
      "source": [
        "### Reading & cleaning text"
      ]
    },
    {
      "cell_type": "code",
      "metadata": {
        "id": "q204q3Zi2h4b",
        "colab_type": "code",
        "outputId": "4173d437-05e4-4cb8-d63d-9df6d49f7fb9",
        "colab": {
          "base_uri": "https://localhost:8080/",
          "height": 323
        }
      },
      "source": [
        "import pandas as pd\n",
        "import re\n",
        "from sklearn.feature_extraction.text import TfidfVectorizer, CountVectorizer\n",
        "import string\n",
        "import time\n",
        "import datetime\n",
        "\n",
        "\n",
        "nltk.download('stopwords')\n",
        "\n",
        "stopwords = nltk.corpus.stopwords.words('english')\n",
        "ps = nltk.PorterStemmer()\n",
        "\n",
        "data = pd.read_csv(\"SMSSpamCollection.tsv\", sep='\\t')\n",
        "data.columns = ['label', 'body_text']\n",
        "\n",
        "def count_punct(text):\n",
        "    count = sum([1 for char in text if char in string.punctuation]) # Counting puntuations\n",
        "    return round(count/(len(text) - text.count(\" \")), 3)*100  # Percentage of punctuations\n",
        "\n",
        "data['body_len'] = data['body_text'].apply(lambda x: len(x) - x.count(\" \"))\n",
        "data['punct%'] = data['body_text'].apply(lambda x: count_punct(x))\n",
        "\n",
        "def clean_text(text):\n",
        "    text = \"\".join([word.lower() for word in text if word not in string.punctuation]) # removing puntuations and creating list\n",
        "    tokens = re.split('\\W+', text) # removing multiple special characters --> '\\W+' ('\\W' -> single special character)\n",
        "    #tokens = re.findall('\\w+', text)  # alternative to above statement (Split -> '\\W+'; findall -> '\\w+')\n",
        "    text = [ps.stem(word) for word in tokens if word not in stopwords]  # stemmig the words\n",
        "    return text\n",
        "\n",
        "# TF-IDF\n",
        "tfidf_vect = TfidfVectorizer(analyzer=clean_text)\n",
        "X_tfidf = tfidf_vect.fit_transform(data['body_text'])\n",
        "X_features = pd.concat([data['body_len'], data['punct%'], pd.DataFrame(X_tfidf.toarray())], axis=1)\n",
        "print(X_features.head())\n",
        "\n",
        "# CountVectorizer\n",
        "count_vect = CountVectorizer(analyzer=clean_text)\n",
        "X_count = count_vect.fit_transform(data['body_text'])\n",
        "X_count_feat = pd.concat([data['body_len'], data['punct%'], pd.DataFrame(X_count.toarray())], axis=1)\n",
        "print(X_count_feat.head())"
      ],
      "execution_count": 0,
      "outputs": [
        {
          "output_type": "stream",
          "text": [
            "[nltk_data] Downloading package stopwords to /root/nltk_data...\n",
            "[nltk_data]   Package stopwords is already up-to-date!\n",
            "   body_len  punct%    0    1    2    3  ...  8098  8099  8100  8101  8102  8103\n",
            "0       128     4.7  0.0  0.0  0.0  0.0  ...   0.0   0.0   0.0   0.0   0.0   0.0\n",
            "1        49     4.1  0.0  0.0  0.0  0.0  ...   0.0   0.0   0.0   0.0   0.0   0.0\n",
            "2        62     3.2  0.0  0.0  0.0  0.0  ...   0.0   0.0   0.0   0.0   0.0   0.0\n",
            "3        28     7.1  0.0  0.0  0.0  0.0  ...   0.0   0.0   0.0   0.0   0.0   0.0\n",
            "4       135     4.4  0.0  0.0  0.0  0.0  ...   0.0   0.0   0.0   0.0   0.0   0.0\n",
            "\n",
            "[5 rows x 8106 columns]\n",
            "   body_len  punct%  0  1  2  3  4  ...  8097  8098  8099  8100  8101  8102  8103\n",
            "0       128     4.7  0  0  0  0  0  ...     0     0     0     0     0     0     0\n",
            "1        49     4.1  0  0  0  0  0  ...     0     0     0     0     0     0     0\n",
            "2        62     3.2  0  0  0  0  0  ...     0     0     0     0     0     0     0\n",
            "3        28     7.1  0  0  0  0  0  ...     0     0     0     0     0     0     0\n",
            "4       135     4.4  0  0  0  0  0  ...     0     0     0     0     0     0     0\n",
            "\n",
            "[5 rows x 8106 columns]\n"
          ],
          "name": "stdout"
        }
      ]
    },
    {
      "cell_type": "markdown",
      "metadata": {
        "id": "xrOp0xPs2h4k",
        "colab_type": "text"
      },
      "source": [
        "### Exploring RandomForestClassifier Attributes & Hyperparameters"
      ]
    },
    {
      "cell_type": "code",
      "metadata": {
        "id": "WWY4zw7E2h4l",
        "colab_type": "code",
        "colab": {}
      },
      "source": [
        "from sklearn.ensemble import RandomForestClassifier"
      ],
      "execution_count": 0,
      "outputs": []
    },
    {
      "cell_type": "code",
      "metadata": {
        "id": "YcUUDxyj2h4p",
        "colab_type": "code",
        "outputId": "360d1d0b-b9d6-4985-f18f-14b57a084e27",
        "colab": {
          "base_uri": "https://localhost:8080/",
          "height": 173
        }
      },
      "source": [
        "print(dir(RandomForestClassifier))\n",
        "print(RandomForestClassifier())"
      ],
      "execution_count": 0,
      "outputs": [
        {
          "output_type": "stream",
          "text": [
            "['__abstractmethods__', '__class__', '__delattr__', '__dict__', '__dir__', '__doc__', '__eq__', '__format__', '__ge__', '__getattribute__', '__getitem__', '__getstate__', '__gt__', '__hash__', '__init__', '__init_subclass__', '__iter__', '__le__', '__len__', '__lt__', '__module__', '__ne__', '__new__', '__reduce__', '__reduce_ex__', '__repr__', '__setattr__', '__setstate__', '__sizeof__', '__str__', '__subclasshook__', '__weakref__', '_abc_cache', '_abc_negative_cache', '_abc_negative_cache_version', '_abc_registry', '_estimator_type', '_get_param_names', '_get_tags', '_make_estimator', '_more_tags', '_required_parameters', '_set_oob_score', '_validate_X_predict', '_validate_estimator', '_validate_y_class_weight', 'apply', 'decision_path', 'feature_importances_', 'fit', 'get_params', 'predict', 'predict_log_proba', 'predict_proba', 'score', 'set_params']\n",
            "RandomForestClassifier(bootstrap=True, class_weight=None, criterion='gini',\n",
            "                       max_depth=None, max_features='auto', max_leaf_nodes=None,\n",
            "                       min_impurity_decrease=0.0, min_impurity_split=None,\n",
            "                       min_samples_leaf=1, min_samples_split=2,\n",
            "                       min_weight_fraction_leaf=0.0, n_estimators='warn',\n",
            "                       n_jobs=None, oob_score=False, random_state=None,\n",
            "                       verbose=0, warm_start=False)\n"
          ],
          "name": "stdout"
        }
      ]
    },
    {
      "cell_type": "markdown",
      "metadata": {
        "id": "OtCEV9va2h4t",
        "colab_type": "text"
      },
      "source": [
        "### Exploing RandomForestClassifier through Cross-Validation"
      ]
    },
    {
      "cell_type": "code",
      "metadata": {
        "id": "n6-NvVof2h4u",
        "colab_type": "code",
        "colab": {}
      },
      "source": [
        "from sklearn.model_selection import KFold, cross_val_score"
      ],
      "execution_count": 0,
      "outputs": []
    },
    {
      "cell_type": "code",
      "metadata": {
        "id": "XMAdVUbm2h4x",
        "colab_type": "code",
        "outputId": "bedce4c2-0ec1-4ccb-86f6-afb89353383a",
        "colab": {
          "base_uri": "https://localhost:8080/",
          "height": 88
        }
      },
      "source": [
        "rf_kfold = RandomForestClassifier(n_jobs=-1)\n",
        "k_fold = KFold(n_splits=5)\n",
        "cross_val_score(rf_kfold, X_features, data['label'], cv=k_fold, scoring='accuracy', n_jobs=-1)"
      ],
      "execution_count": 0,
      "outputs": [
        {
          "output_type": "stream",
          "text": [
            "/usr/local/lib/python3.6/dist-packages/joblib/externals/loky/process_executor.py:706: UserWarning: A worker stopped while some jobs were given to the executor. This can be caused by a too short worker timeout or by a memory leak.\n",
            "  \"timeout or by a memory leak.\", UserWarning\n"
          ],
          "name": "stderr"
        },
        {
          "output_type": "execute_result",
          "data": {
            "text/plain": [
              "array([0.97666068, 0.97307002, 0.9703504 , 0.95956873, 0.96495957])"
            ]
          },
          "metadata": {
            "tags": []
          },
          "execution_count": 31
        }
      ]
    },
    {
      "cell_type": "markdown",
      "metadata": {
        "id": "fXFOUwmd2h42",
        "colab_type": "text"
      },
      "source": [
        "### Exploring RandomForestClassifier through holdout set"
      ]
    },
    {
      "cell_type": "code",
      "metadata": {
        "id": "73g8M5BS2h43",
        "colab_type": "code",
        "colab": {}
      },
      "source": [
        "from sklearn.metrics import precision_recall_fscore_support as score\n",
        "from sklearn.model_selection import train_test_split"
      ],
      "execution_count": 0,
      "outputs": []
    },
    {
      "cell_type": "code",
      "metadata": {
        "id": "x6u4J2ex2h46",
        "colab_type": "code",
        "colab": {}
      },
      "source": [
        "X_train, X_test, y_train, y_test = train_test_split(X_features, data['label'], test_size=0.2)"
      ],
      "execution_count": 0,
      "outputs": []
    },
    {
      "cell_type": "code",
      "metadata": {
        "id": "cNNrq03s2h4-",
        "colab_type": "code",
        "colab": {}
      },
      "source": [
        "rf = RandomForestClassifier(n_estimators=50, max_depth=20, n_jobs=-1)\n",
        "rf_model = rf.fit(X_train, y_train)"
      ],
      "execution_count": 0,
      "outputs": []
    },
    {
      "cell_type": "code",
      "metadata": {
        "id": "czCTII4y2h5B",
        "colab_type": "code",
        "outputId": "6ba79178-1946-43f3-80a8-3474f09e0f0f",
        "colab": {
          "base_uri": "https://localhost:8080/",
          "height": 187
        }
      },
      "source": [
        "sorted(zip(rf_model.feature_importances_, X_train.columns), reverse=True)[0:10]"
      ],
      "execution_count": 0,
      "outputs": [
        {
          "output_type": "execute_result",
          "data": {
            "text/plain": [
              "[(0.07978630579894755, 'body_len'),\n",
              " (0.045006394742685245, 7350),\n",
              " (0.03109324868089661, 2031),\n",
              " (0.028339612098920906, 3134),\n",
              " (0.02545401438726829, 4796),\n",
              " (0.0239016969778129, 6285),\n",
              " (0.017262458664456578, 5988),\n",
              " (0.01702123825699941, 397),\n",
              " (0.01573807087961601, 392),\n",
              " (0.015015466919174561, 1803)]"
            ]
          },
          "metadata": {
            "tags": []
          },
          "execution_count": 35
        }
      ]
    },
    {
      "cell_type": "code",
      "metadata": {
        "id": "KvGQa0zF2h5H",
        "colab_type": "code",
        "colab": {}
      },
      "source": [
        "y_pred = rf_model.predict(X_test)\n",
        "precision, recall, fscore, support = score(y_test, y_pred, pos_label='spam', average='binary')"
      ],
      "execution_count": 0,
      "outputs": []
    },
    {
      "cell_type": "code",
      "metadata": {
        "id": "K8U_nxWM2h5K",
        "colab_type": "code",
        "outputId": "465ecdb8-21bc-4bb2-a703-45a59515e218",
        "colab": {
          "base_uri": "https://localhost:8080/",
          "height": 34
        }
      },
      "source": [
        "print('Precision: {} / Recall: {} / Accuracy: {}'.format(round(precision, 3),\n",
        "                                                        round(recall, 3),\n",
        "                                                        round((y_pred==y_test).sum() / len(y_pred),3)))"
      ],
      "execution_count": 0,
      "outputs": [
        {
          "output_type": "stream",
          "text": [
            "Precision: 1.0 / Recall: 0.579 / Accuracy: 0.94\n"
          ],
          "name": "stdout"
        }
      ]
    },
    {
      "cell_type": "markdown",
      "metadata": {
        "id": "aMtN7qtY2h5O",
        "colab_type": "text"
      },
      "source": [
        "### Building a Grid Search"
      ]
    },
    {
      "cell_type": "code",
      "metadata": {
        "id": "GA0EiFsq2h5P",
        "colab_type": "code",
        "colab": {}
      },
      "source": [
        "def train_RF(n_est, depth):\n",
        "    rf1 = RandomForestClassifier(n_estimators=n_est, max_depth=depth, n_jobs=-1)\n",
        "    rf_model1 = rf.fit(X_train, y_train)\n",
        "    y_pred1 = rf_model.predict(X_test)\n",
        "    precision1, recall1, fscore1, support1 = score(y_test, y_pred1, pos_label='spam', average='binary')\n",
        "    print('Est: {} / Depth: {} ---- Precision: {} / Recall: {} / Accuracy: {}'.format(\n",
        "        n_est, depth, round(precision1, 3), round(recall1, 3),\n",
        "        round((y_pred1==y_test).sum() / len(y_pred1), 3)))"
      ],
      "execution_count": 0,
      "outputs": []
    },
    {
      "cell_type": "code",
      "metadata": {
        "id": "Ez-biorU2h5S",
        "colab_type": "code",
        "outputId": "a0fe2150-5aaf-48d8-e078-30782287c616",
        "colab": {
          "base_uri": "https://localhost:8080/",
          "height": 255
        }
      },
      "source": [
        "print(datetime.datetime.now())\n",
        "for n_est in [10, 50, 100]:\n",
        "    for depth in [10, 20, 30, None]:\n",
        "        train_RF(n_est, depth)\n",
        "print(datetime.datetime.now())"
      ],
      "execution_count": 0,
      "outputs": [
        {
          "output_type": "stream",
          "text": [
            "2019-06-05 17:40:22.419729\n",
            "Est: 10 / Depth: 10 ---- Precision: 1.0 / Recall: 0.535 / Accuracy: 0.934\n",
            "Est: 10 / Depth: 20 ---- Precision: 1.0 / Recall: 0.566 / Accuracy: 0.938\n",
            "Est: 10 / Depth: 30 ---- Precision: 1.0 / Recall: 0.541 / Accuracy: 0.934\n",
            "Est: 10 / Depth: None ---- Precision: 1.0 / Recall: 0.585 / Accuracy: 0.941\n",
            "Est: 50 / Depth: 10 ---- Precision: 1.0 / Recall: 0.566 / Accuracy: 0.938\n",
            "Est: 50 / Depth: 20 ---- Precision: 1.0 / Recall: 0.535 / Accuracy: 0.934\n",
            "Est: 50 / Depth: 30 ---- Precision: 1.0 / Recall: 0.56 / Accuracy: 0.937\n",
            "Est: 50 / Depth: None ---- Precision: 1.0 / Recall: 0.566 / Accuracy: 0.938\n",
            "Est: 100 / Depth: 10 ---- Precision: 1.0 / Recall: 0.566 / Accuracy: 0.938\n",
            "Est: 100 / Depth: 20 ---- Precision: 1.0 / Recall: 0.541 / Accuracy: 0.934\n",
            "Est: 100 / Depth: 30 ---- Precision: 1.0 / Recall: 0.541 / Accuracy: 0.934\n",
            "Est: 100 / Depth: None ---- Precision: 1.0 / Recall: 0.566 / Accuracy: 0.938\n",
            "2019-06-05 17:40:38.640877\n"
          ],
          "name": "stdout"
        }
      ]
    },
    {
      "cell_type": "markdown",
      "metadata": {
        "id": "uzKdmCPM2h5W",
        "colab_type": "text"
      },
      "source": [
        "### Evaluating Random forest with GridSearchCV"
      ]
    },
    {
      "cell_type": "code",
      "metadata": {
        "id": "UYhCfJZS2h5Y",
        "colab_type": "code",
        "colab": {}
      },
      "source": [
        "import warnings\n",
        "warnings.filterwarnings(\"ignore\", category=DeprecationWarning)"
      ],
      "execution_count": 0,
      "outputs": []
    },
    {
      "cell_type": "code",
      "metadata": {
        "id": "3I1t7hHR2h5c",
        "colab_type": "code",
        "colab": {}
      },
      "source": [
        "from sklearn.model_selection import GridSearchCV"
      ],
      "execution_count": 0,
      "outputs": []
    },
    {
      "cell_type": "code",
      "metadata": {
        "id": "jlvOYyFz2h5f",
        "colab_type": "code",
        "colab": {}
      },
      "source": [
        "rf2 = RandomForestClassifier()\n",
        "param = {'n_estimators': [10, 150, 300],\n",
        "        'max_depth': [30, 60, 90, None]}\n",
        "\n",
        "gs = GridSearchCV(rf2, param, cv=5, n_jobs=-1)"
      ],
      "execution_count": 0,
      "outputs": []
    },
    {
      "cell_type": "code",
      "metadata": {
        "id": "J-vY8Atf2h5j",
        "colab_type": "code",
        "outputId": "bb94f929-5955-4df0-e6c5-66df01964ca7",
        "colab": {
          "base_uri": "https://localhost:8080/",
          "height": 530
        }
      },
      "source": [
        "start = time.time()\n",
        "print(datetime.datetime.now())\n",
        "\n",
        "gs_fit1 = gs.fit(X_features, data['label'])\n",
        "pd.DataFrame(gs_fit1.cv_results_).sort_values('mean_test_score', ascending=False)[0:5]"
      ],
      "execution_count": 0,
      "outputs": [
        {
          "output_type": "stream",
          "text": [
            "2019-06-05 13:59:36.790276\n"
          ],
          "name": "stdout"
        },
        {
          "output_type": "stream",
          "text": [
            "/usr/local/lib/python3.6/dist-packages/joblib/externals/loky/process_executor.py:706: UserWarning: A worker stopped while some jobs were given to the executor. This can be caused by a too short worker timeout or by a memory leak.\n",
            "  \"timeout or by a memory leak.\", UserWarning\n"
          ],
          "name": "stderr"
        },
        {
          "output_type": "execute_result",
          "data": {
            "text/html": [
              "<div>\n",
              "<style scoped>\n",
              "    .dataframe tbody tr th:only-of-type {\n",
              "        vertical-align: middle;\n",
              "    }\n",
              "\n",
              "    .dataframe tbody tr th {\n",
              "        vertical-align: top;\n",
              "    }\n",
              "\n",
              "    .dataframe thead th {\n",
              "        text-align: right;\n",
              "    }\n",
              "</style>\n",
              "<table border=\"1\" class=\"dataframe\">\n",
              "  <thead>\n",
              "    <tr style=\"text-align: right;\">\n",
              "      <th></th>\n",
              "      <th>mean_fit_time</th>\n",
              "      <th>std_fit_time</th>\n",
              "      <th>mean_score_time</th>\n",
              "      <th>std_score_time</th>\n",
              "      <th>param_max_depth</th>\n",
              "      <th>param_n_estimators</th>\n",
              "      <th>params</th>\n",
              "      <th>split0_test_score</th>\n",
              "      <th>split1_test_score</th>\n",
              "      <th>split2_test_score</th>\n",
              "      <th>split3_test_score</th>\n",
              "      <th>split4_test_score</th>\n",
              "      <th>mean_test_score</th>\n",
              "      <th>std_test_score</th>\n",
              "      <th>rank_test_score</th>\n",
              "    </tr>\n",
              "  </thead>\n",
              "  <tbody>\n",
              "    <tr>\n",
              "      <th>8</th>\n",
              "      <td>34.293893</td>\n",
              "      <td>0.309868</td>\n",
              "      <td>0.361686</td>\n",
              "      <td>0.015720</td>\n",
              "      <td>90</td>\n",
              "      <td>300</td>\n",
              "      <td>{'max_depth': 90, 'n_estimators': 300}</td>\n",
              "      <td>0.978475</td>\n",
              "      <td>0.978437</td>\n",
              "      <td>0.974843</td>\n",
              "      <td>0.967655</td>\n",
              "      <td>0.972147</td>\n",
              "      <td>0.974313</td>\n",
              "      <td>0.004090</td>\n",
              "      <td>1</td>\n",
              "    </tr>\n",
              "    <tr>\n",
              "      <th>7</th>\n",
              "      <td>17.341426</td>\n",
              "      <td>0.206383</td>\n",
              "      <td>0.213321</td>\n",
              "      <td>0.006853</td>\n",
              "      <td>90</td>\n",
              "      <td>150</td>\n",
              "      <td>{'max_depth': 90, 'n_estimators': 150}</td>\n",
              "      <td>0.977578</td>\n",
              "      <td>0.977538</td>\n",
              "      <td>0.974843</td>\n",
              "      <td>0.968553</td>\n",
              "      <td>0.971249</td>\n",
              "      <td>0.973954</td>\n",
              "      <td>0.003557</td>\n",
              "      <td>2</td>\n",
              "    </tr>\n",
              "    <tr>\n",
              "      <th>11</th>\n",
              "      <td>36.007624</td>\n",
              "      <td>3.134525</td>\n",
              "      <td>0.370402</td>\n",
              "      <td>0.043921</td>\n",
              "      <td>None</td>\n",
              "      <td>300</td>\n",
              "      <td>{'max_depth': None, 'n_estimators': 300}</td>\n",
              "      <td>0.977578</td>\n",
              "      <td>0.974843</td>\n",
              "      <td>0.975741</td>\n",
              "      <td>0.969452</td>\n",
              "      <td>0.970350</td>\n",
              "      <td>0.973594</td>\n",
              "      <td>0.003154</td>\n",
              "      <td>3</td>\n",
              "    </tr>\n",
              "    <tr>\n",
              "      <th>3</th>\n",
              "      <td>1.277291</td>\n",
              "      <td>0.010788</td>\n",
              "      <td>0.083406</td>\n",
              "      <td>0.003076</td>\n",
              "      <td>60</td>\n",
              "      <td>10</td>\n",
              "      <td>{'max_depth': 60, 'n_estimators': 10}</td>\n",
              "      <td>0.975785</td>\n",
              "      <td>0.974843</td>\n",
              "      <td>0.973944</td>\n",
              "      <td>0.967655</td>\n",
              "      <td>0.968553</td>\n",
              "      <td>0.972157</td>\n",
              "      <td>0.003371</td>\n",
              "      <td>4</td>\n",
              "    </tr>\n",
              "    <tr>\n",
              "      <th>5</th>\n",
              "      <td>27.191136</td>\n",
              "      <td>0.335941</td>\n",
              "      <td>0.298861</td>\n",
              "      <td>0.013216</td>\n",
              "      <td>60</td>\n",
              "      <td>300</td>\n",
              "      <td>{'max_depth': 60, 'n_estimators': 300}</td>\n",
              "      <td>0.976682</td>\n",
              "      <td>0.971249</td>\n",
              "      <td>0.972147</td>\n",
              "      <td>0.965858</td>\n",
              "      <td>0.971249</td>\n",
              "      <td>0.971439</td>\n",
              "      <td>0.003442</td>\n",
              "      <td>5</td>\n",
              "    </tr>\n",
              "  </tbody>\n",
              "</table>\n",
              "</div>"
            ],
            "text/plain": [
              "    mean_fit_time  std_fit_time  ...  std_test_score  rank_test_score\n",
              "8       34.293893      0.309868  ...        0.004090                1\n",
              "7       17.341426      0.206383  ...        0.003557                2\n",
              "11      36.007624      3.134525  ...        0.003154                3\n",
              "3        1.277291      0.010788  ...        0.003371                4\n",
              "5       27.191136      0.335941  ...        0.003442                5\n",
              "\n",
              "[5 rows x 15 columns]"
            ]
          },
          "metadata": {
            "tags": []
          },
          "execution_count": 17
        }
      ]
    },
    {
      "cell_type": "code",
      "metadata": {
        "id": "n7XsnLZ92h5p",
        "colab_type": "code",
        "outputId": "50d406e2-7fdc-4f3b-9cd6-a5a941308005",
        "colab": {
          "base_uri": "https://localhost:8080/",
          "height": 51
        }
      },
      "source": [
        "end = time.time()\n",
        "fit_time = (end - start)\n",
        "print(fit_time)\n",
        "print(datetime.datetime.now())"
      ],
      "execution_count": 0,
      "outputs": [
        {
          "output_type": "stream",
          "text": [
            "526.7089385986328\n",
            "2019-06-05 14:08:23.499556\n"
          ],
          "name": "stdout"
        }
      ]
    },
    {
      "cell_type": "code",
      "metadata": {
        "id": "Cjiob6EA2h5u",
        "colab_type": "code",
        "outputId": "279fe4cd-0fe8-4bbe-a874-330781588b17",
        "colab": {
          "base_uri": "https://localhost:8080/",
          "height": 530
        }
      },
      "source": [
        "start = time.time()\n",
        "print(datetime.datetime.now())\n",
        "\n",
        "gs_fit2 = gs.fit(X_count_feat, data['label'])\n",
        "pd.DataFrame(gs_fit2.cv_results_).sort_values('mean_test_score', ascending=False)[0:5]"
      ],
      "execution_count": 0,
      "outputs": [
        {
          "output_type": "stream",
          "text": [
            "2019-06-05 14:08:29.598689\n"
          ],
          "name": "stdout"
        },
        {
          "output_type": "stream",
          "text": [
            "/usr/local/lib/python3.6/dist-packages/joblib/externals/loky/process_executor.py:706: UserWarning: A worker stopped while some jobs were given to the executor. This can be caused by a too short worker timeout or by a memory leak.\n",
            "  \"timeout or by a memory leak.\", UserWarning\n"
          ],
          "name": "stderr"
        },
        {
          "output_type": "execute_result",
          "data": {
            "text/html": [
              "<div>\n",
              "<style scoped>\n",
              "    .dataframe tbody tr th:only-of-type {\n",
              "        vertical-align: middle;\n",
              "    }\n",
              "\n",
              "    .dataframe tbody tr th {\n",
              "        vertical-align: top;\n",
              "    }\n",
              "\n",
              "    .dataframe thead th {\n",
              "        text-align: right;\n",
              "    }\n",
              "</style>\n",
              "<table border=\"1\" class=\"dataframe\">\n",
              "  <thead>\n",
              "    <tr style=\"text-align: right;\">\n",
              "      <th></th>\n",
              "      <th>mean_fit_time</th>\n",
              "      <th>std_fit_time</th>\n",
              "      <th>mean_score_time</th>\n",
              "      <th>std_score_time</th>\n",
              "      <th>param_max_depth</th>\n",
              "      <th>param_n_estimators</th>\n",
              "      <th>params</th>\n",
              "      <th>split0_test_score</th>\n",
              "      <th>split1_test_score</th>\n",
              "      <th>split2_test_score</th>\n",
              "      <th>split3_test_score</th>\n",
              "      <th>split4_test_score</th>\n",
              "      <th>mean_test_score</th>\n",
              "      <th>std_test_score</th>\n",
              "      <th>rank_test_score</th>\n",
              "    </tr>\n",
              "  </thead>\n",
              "  <tbody>\n",
              "    <tr>\n",
              "      <th>11</th>\n",
              "      <td>36.993969</td>\n",
              "      <td>2.278405</td>\n",
              "      <td>0.368309</td>\n",
              "      <td>0.049041</td>\n",
              "      <td>None</td>\n",
              "      <td>300</td>\n",
              "      <td>{'max_depth': None, 'n_estimators': 300}</td>\n",
              "      <td>0.978475</td>\n",
              "      <td>0.973944</td>\n",
              "      <td>0.973944</td>\n",
              "      <td>0.967655</td>\n",
              "      <td>0.971249</td>\n",
              "      <td>0.973056</td>\n",
              "      <td>0.003561</td>\n",
              "      <td>1</td>\n",
              "    </tr>\n",
              "    <tr>\n",
              "      <th>8</th>\n",
              "      <td>34.959663</td>\n",
              "      <td>0.402545</td>\n",
              "      <td>0.373811</td>\n",
              "      <td>0.008417</td>\n",
              "      <td>90</td>\n",
              "      <td>300</td>\n",
              "      <td>{'max_depth': 90, 'n_estimators': 300}</td>\n",
              "      <td>0.976682</td>\n",
              "      <td>0.974843</td>\n",
              "      <td>0.973046</td>\n",
              "      <td>0.968553</td>\n",
              "      <td>0.971249</td>\n",
              "      <td>0.972876</td>\n",
              "      <td>0.002819</td>\n",
              "      <td>2</td>\n",
              "    </tr>\n",
              "    <tr>\n",
              "      <th>10</th>\n",
              "      <td>19.612268</td>\n",
              "      <td>0.261646</td>\n",
              "      <td>0.253307</td>\n",
              "      <td>0.027661</td>\n",
              "      <td>None</td>\n",
              "      <td>150</td>\n",
              "      <td>{'max_depth': None, 'n_estimators': 150}</td>\n",
              "      <td>0.978475</td>\n",
              "      <td>0.976640</td>\n",
              "      <td>0.973046</td>\n",
              "      <td>0.966757</td>\n",
              "      <td>0.969452</td>\n",
              "      <td>0.972876</td>\n",
              "      <td>0.004353</td>\n",
              "      <td>2</td>\n",
              "    </tr>\n",
              "    <tr>\n",
              "      <th>7</th>\n",
              "      <td>17.944235</td>\n",
              "      <td>0.220481</td>\n",
              "      <td>0.214960</td>\n",
              "      <td>0.008265</td>\n",
              "      <td>90</td>\n",
              "      <td>150</td>\n",
              "      <td>{'max_depth': 90, 'n_estimators': 150}</td>\n",
              "      <td>0.979372</td>\n",
              "      <td>0.973944</td>\n",
              "      <td>0.973944</td>\n",
              "      <td>0.966757</td>\n",
              "      <td>0.969452</td>\n",
              "      <td>0.972696</td>\n",
              "      <td>0.004325</td>\n",
              "      <td>4</td>\n",
              "    </tr>\n",
              "    <tr>\n",
              "      <th>4</th>\n",
              "      <td>14.317859</td>\n",
              "      <td>0.236232</td>\n",
              "      <td>0.186498</td>\n",
              "      <td>0.008199</td>\n",
              "      <td>60</td>\n",
              "      <td>150</td>\n",
              "      <td>{'max_depth': 60, 'n_estimators': 150}</td>\n",
              "      <td>0.975785</td>\n",
              "      <td>0.971249</td>\n",
              "      <td>0.970350</td>\n",
              "      <td>0.966757</td>\n",
              "      <td>0.969452</td>\n",
              "      <td>0.970720</td>\n",
              "      <td>0.002947</td>\n",
              "      <td>5</td>\n",
              "    </tr>\n",
              "  </tbody>\n",
              "</table>\n",
              "</div>"
            ],
            "text/plain": [
              "    mean_fit_time  std_fit_time  ...  std_test_score  rank_test_score\n",
              "11      36.993969      2.278405  ...        0.003561                1\n",
              "8       34.959663      0.402545  ...        0.002819                2\n",
              "10      19.612268      0.261646  ...        0.004353                2\n",
              "7       17.944235      0.220481  ...        0.004325                4\n",
              "4       14.317859      0.236232  ...        0.002947                5\n",
              "\n",
              "[5 rows x 15 columns]"
            ]
          },
          "metadata": {
            "tags": []
          },
          "execution_count": 19
        }
      ]
    },
    {
      "cell_type": "code",
      "metadata": {
        "id": "L_N3CHMc2h5x",
        "colab_type": "code",
        "outputId": "dabfa190-196d-4001-ecd9-2c917f3f07a3",
        "colab": {
          "base_uri": "https://localhost:8080/",
          "height": 51
        }
      },
      "source": [
        "end = time.time()\n",
        "fit_time = (end - start)\n",
        "print(fit_time)\n",
        "print(datetime.datetime.now())"
      ],
      "execution_count": 0,
      "outputs": [
        {
          "output_type": "stream",
          "text": [
            "548.83469414711\n",
            "2019-06-05 14:17:38.434192\n"
          ],
          "name": "stdout"
        }
      ]
    },
    {
      "cell_type": "markdown",
      "metadata": {
        "id": "_uy_IUbR2h51",
        "colab_type": "text"
      },
      "source": [
        "### Exploring GradientBoostingClassifier Attributes & Hyperparameters"
      ]
    },
    {
      "cell_type": "code",
      "metadata": {
        "id": "YHk1jQL62h53",
        "colab_type": "code",
        "colab": {}
      },
      "source": [
        "from sklearn.ensemble import GradientBoostingClassifier"
      ],
      "execution_count": 0,
      "outputs": []
    },
    {
      "cell_type": "code",
      "metadata": {
        "id": "cuCU03zM2h56",
        "colab_type": "code",
        "outputId": "831e7396-73f9-4d92-ecb1-f204893bc0ba",
        "colab": {
          "base_uri": "https://localhost:8080/",
          "height": 224
        }
      },
      "source": [
        "print(dir(GradientBoostingClassifier))\n",
        "print(GradientBoostingClassifier())"
      ],
      "execution_count": 0,
      "outputs": [
        {
          "output_type": "stream",
          "text": [
            "['_SUPPORTED_LOSS', '__abstractmethods__', '__class__', '__delattr__', '__dict__', '__dir__', '__doc__', '__eq__', '__format__', '__ge__', '__getattribute__', '__getitem__', '__getstate__', '__gt__', '__hash__', '__init__', '__init_subclass__', '__iter__', '__le__', '__len__', '__lt__', '__module__', '__ne__', '__new__', '__reduce__', '__reduce_ex__', '__repr__', '__setattr__', '__setstate__', '__sizeof__', '__str__', '__subclasshook__', '__weakref__', '_abc_cache', '_abc_negative_cache', '_abc_negative_cache_version', '_abc_registry', '_check_initialized', '_check_params', '_clear_state', '_estimator_type', '_fit_stage', '_fit_stages', '_get_param_names', '_get_tags', '_init_state', '_is_initialized', '_make_estimator', '_raw_predict', '_raw_predict_init', '_required_parameters', '_resize_state', '_staged_raw_predict', '_validate_estimator', '_validate_y', 'apply', 'decision_function', 'feature_importances_', 'fit', 'get_params', 'predict', 'predict_log_proba', 'predict_proba', 'score', 'set_params', 'staged_decision_function', 'staged_predict', 'staged_predict_proba']\n",
            "GradientBoostingClassifier(criterion='friedman_mse', init=None,\n",
            "                           learning_rate=0.1, loss='deviance', max_depth=3,\n",
            "                           max_features=None, max_leaf_nodes=None,\n",
            "                           min_impurity_decrease=0.0, min_impurity_split=None,\n",
            "                           min_samples_leaf=1, min_samples_split=2,\n",
            "                           min_weight_fraction_leaf=0.0, n_estimators=100,\n",
            "                           n_iter_no_change=None, presort='auto',\n",
            "                           random_state=None, subsample=1.0, tol=0.0001,\n",
            "                           validation_fraction=0.1, verbose=0,\n",
            "                           warm_start=False)\n"
          ],
          "name": "stdout"
        }
      ]
    },
    {
      "cell_type": "markdown",
      "metadata": {
        "id": "Kw0DR8YU2h59",
        "colab_type": "text"
      },
      "source": [
        "### Building a Grid Search for Gradient Boosting"
      ]
    },
    {
      "cell_type": "code",
      "metadata": {
        "id": "n0lm-sWt2h59",
        "colab_type": "code",
        "colab": {}
      },
      "source": [
        "def train_GB(est, max_depth, lr):\n",
        "    gb = GradientBoostingClassifier(n_estimators=est, max_depth=max_depth, learning_rate=lr)\n",
        "    gb_model = gb.fit(X_train, y_train)\n",
        "    y_pred2 = gb_model.predict(X_test)\n",
        "    precision2, recall2, fscore2, train_support2 = score(y_test, y_pred2, pos_label='spam', average='binary')\n",
        "    print('Est: {} / Depth: {} / LR: {} ---- Precision: {} / Recall: {} / Accuracy: {}'.format(\n",
        "        est, max_depth, lr, round(precision2, 3), round(recall2, 3), \n",
        "        round((y_pred2==y_test).sum()/len(y_pred2), 3)))"
      ],
      "execution_count": 0,
      "outputs": []
    },
    {
      "cell_type": "code",
      "metadata": {
        "id": "k_DR7JFo2h6A",
        "colab_type": "code",
        "outputId": "dc76dcb9-2de6-46fd-a061-e8e21ed3afd5",
        "colab": {
          "base_uri": "https://localhost:8080/",
          "height": 2009
        }
      },
      "source": [
        "start = time.time()\n",
        "print(datetime.datetime.now())\n",
        "\n",
        "for n_est in [50, 100, 150]:\n",
        "    for max_depth in [3, 7, 11, 15]:\n",
        "        for lr in [0.01, 0.1, 1]:\n",
        "            train_GB(n_est, max_depth, lr)\n",
        "            end = time.time()\n",
        "            fit_time = (end - start)\n",
        "            print(fit_time)\n",
        "            print(datetime.datetime.now())\n",
        "print(datetime.datetime.now())"
      ],
      "execution_count": 0,
      "outputs": [
        {
          "output_type": "stream",
          "text": [
            "2019-06-05 14:18:00.912576\n"
          ],
          "name": "stdout"
        },
        {
          "output_type": "stream",
          "text": [
            "/usr/local/lib/python3.6/dist-packages/sklearn/metrics/classification.py:1437: UndefinedMetricWarning: Precision and F-score are ill-defined and being set to 0.0 due to no predicted samples.\n",
            "  'precision', 'predicted', average, warn_for)\n"
          ],
          "name": "stderr"
        },
        {
          "output_type": "stream",
          "text": [
            "Est: 50 / Depth: 3 / LR: 0.01 ---- Precision: 0.0 / Recall: 0.0 / Accuracy: 0.849\n",
            "36.93563795089722\n",
            "2019-06-05 14:18:37.848230\n",
            "Est: 50 / Depth: 3 / LR: 0.1 ---- Precision: 0.962 / Recall: 0.75 / Accuracy: 0.958\n",
            "67.26325869560242\n",
            "2019-06-05 14:19:08.176255\n",
            "Est: 50 / Depth: 3 / LR: 1 ---- Precision: 0.88 / Recall: 0.827 / Accuracy: 0.957\n",
            "89.08916139602661\n",
            "2019-06-05 14:19:30.001743\n",
            "Est: 50 / Depth: 7 / LR: 0.01 ---- Precision: 1.0 / Recall: 0.006 / Accuracy: 0.85\n",
            "174.888503074646\n",
            "2019-06-05 14:20:55.801526\n",
            "Est: 50 / Depth: 7 / LR: 0.1 ---- Precision: 0.903 / Recall: 0.833 / Accuracy: 0.961\n",
            "248.70944929122925\n",
            "2019-06-05 14:22:09.622503\n",
            "Est: 50 / Depth: 7 / LR: 1 ---- Precision: 0.87 / Recall: 0.833 / Accuracy: 0.956\n",
            "299.46573209762573\n",
            "2019-06-05 14:23:00.378773\n"
          ],
          "name": "stdout"
        },
        {
          "output_type": "stream",
          "text": [
            "/usr/local/lib/python3.6/dist-packages/sklearn/metrics/classification.py:1437: UndefinedMetricWarning: Precision and F-score are ill-defined and being set to 0.0 due to no predicted samples.\n",
            "  'precision', 'predicted', average, warn_for)\n"
          ],
          "name": "stderr"
        },
        {
          "output_type": "stream",
          "text": [
            "Est: 50 / Depth: 11 / LR: 0.01 ---- Precision: 0.0 / Recall: 0.0 / Accuracy: 0.849\n",
            "427.7270152568817\n",
            "2019-06-05 14:25:08.639863\n",
            "Est: 50 / Depth: 11 / LR: 0.1 ---- Precision: 0.87 / Recall: 0.833 / Accuracy: 0.956\n",
            "544.0622644424438\n",
            "2019-06-05 14:27:04.974874\n",
            "Est: 50 / Depth: 11 / LR: 1 ---- Precision: 0.868 / Recall: 0.863 / Accuracy: 0.96\n",
            "587.7519927024841\n",
            "2019-06-05 14:27:48.665045\n"
          ],
          "name": "stdout"
        },
        {
          "output_type": "stream",
          "text": [
            "/usr/local/lib/python3.6/dist-packages/sklearn/metrics/classification.py:1437: UndefinedMetricWarning: Precision and F-score are ill-defined and being set to 0.0 due to no predicted samples.\n",
            "  'precision', 'predicted', average, warn_for)\n"
          ],
          "name": "stderr"
        },
        {
          "output_type": "stream",
          "text": [
            "Est: 50 / Depth: 15 / LR: 0.01 ---- Precision: 0.0 / Recall: 0.0 / Accuracy: 0.849\n",
            "747.2563233375549\n",
            "2019-06-05 14:30:28.168958\n",
            "Est: 50 / Depth: 15 / LR: 0.1 ---- Precision: 0.892 / Recall: 0.839 / Accuracy: 0.961\n",
            "908.9722263813019\n",
            "2019-06-05 14:33:09.885452\n",
            "Est: 50 / Depth: 15 / LR: 1 ---- Precision: 0.892 / Recall: 0.839 / Accuracy: 0.961\n",
            "950.2841367721558\n",
            "2019-06-05 14:33:51.197220\n",
            "Est: 100 / Depth: 3 / LR: 0.01 ---- Precision: 0.978 / Recall: 0.53 / Accuracy: 0.927\n",
            "1023.837482213974\n",
            "2019-06-05 14:35:04.750480\n",
            "Est: 100 / Depth: 3 / LR: 0.1 ---- Precision: 0.965 / Recall: 0.821 / Accuracy: 0.969\n",
            "1078.3279728889465\n",
            "2019-06-05 14:35:59.241010\n",
            "Est: 100 / Depth: 3 / LR: 1 ---- Precision: 0.881 / Recall: 0.839 / Accuracy: 0.959\n",
            "1120.7169239521027\n",
            "2019-06-05 14:36:41.629535\n",
            "Est: 100 / Depth: 7 / LR: 0.01 ---- Precision: 0.934 / Recall: 0.679 / Accuracy: 0.944\n",
            "1295.494148015976\n",
            "2019-06-05 14:39:36.407205\n",
            "Est: 100 / Depth: 7 / LR: 0.1 ---- Precision: 0.907 / Recall: 0.869 / Accuracy: 0.967\n",
            "1419.0278704166412\n",
            "2019-06-05 14:41:39.940461\n",
            "Est: 100 / Depth: 7 / LR: 1 ---- Precision: 0.887 / Recall: 0.839 / Accuracy: 0.96\n",
            "1470.1443531513214\n",
            "2019-06-05 14:42:31.057383\n",
            "Est: 100 / Depth: 11 / LR: 0.01 ---- Precision: 0.892 / Recall: 0.786 / Accuracy: 0.953\n",
            "1727.6489629745483\n",
            "2019-06-05 14:46:48.562091\n",
            "Est: 100 / Depth: 11 / LR: 0.1 ---- Precision: 0.899 / Recall: 0.845 / Accuracy: 0.962\n",
            "1924.4764878749847\n",
            "2019-06-05 14:50:05.389521\n",
            "Est: 100 / Depth: 11 / LR: 1 ---- Precision: 0.874 / Recall: 0.869 / Accuracy: 0.961\n",
            "1958.9237196445465\n",
            "2019-06-05 14:50:39.836743\n",
            "Est: 100 / Depth: 15 / LR: 0.01 ---- Precision: 0.906 / Recall: 0.804 / Accuracy: 0.958\n",
            "2283.7066016197205\n",
            "2019-06-05 14:56:04.619650\n",
            "Est: 100 / Depth: 15 / LR: 0.1 ---- Precision: 0.892 / Recall: 0.833 / Accuracy: 0.96\n",
            "2555.8004088401794\n",
            "2019-06-05 15:00:36.713434\n",
            "Est: 100 / Depth: 15 / LR: 1 ---- Precision: 0.883 / Recall: 0.851 / Accuracy: 0.961\n",
            "2595.826596260071\n",
            "2019-06-05 15:01:16.739601\n",
            "Est: 150 / Depth: 3 / LR: 0.01 ---- Precision: 0.969 / Recall: 0.565 / Accuracy: 0.932\n",
            "2702.035024166107\n",
            "2019-06-05 15:03:02.948104\n",
            "Est: 150 / Depth: 3 / LR: 0.1 ---- Precision: 0.959 / Recall: 0.833 / Accuracy: 0.969\n",
            "2777.735673904419\n",
            "2019-06-05 15:04:18.648729\n",
            "Est: 150 / Depth: 3 / LR: 1 ---- Precision: 0.885 / Recall: 0.827 / Accuracy: 0.958\n",
            "2841.43466091156\n",
            "2019-06-05 15:05:22.347666\n",
            "Est: 150 / Depth: 7 / LR: 0.01 ---- Precision: 0.913 / Recall: 0.75 / Accuracy: 0.952\n",
            "3100.205453634262\n",
            "2019-06-05 15:09:41.118055\n",
            "Est: 150 / Depth: 7 / LR: 0.1 ---- Precision: 0.913 / Recall: 0.875 / Accuracy: 0.969\n",
            "3270.3438441753387\n",
            "2019-06-05 15:12:31.256967\n",
            "Est: 150 / Depth: 7 / LR: 1 ---- Precision: 0.881 / Recall: 0.839 / Accuracy: 0.959\n",
            "3324.7198321819305\n",
            "2019-06-05 15:13:25.632423\n",
            "Est: 150 / Depth: 11 / LR: 0.01 ---- Precision: 0.879 / Recall: 0.78 / Accuracy: 0.951\n",
            "3713.518980741501\n",
            "2019-06-05 15:19:54.431889\n",
            "Est: 150 / Depth: 11 / LR: 0.1 ---- Precision: 0.904 / Recall: 0.845 / Accuracy: 0.963\n",
            "3989.7618219852448\n",
            "2019-06-05 15:24:30.674432\n",
            "Est: 150 / Depth: 11 / LR: 1 ---- Precision: 0.873 / Recall: 0.863 / Accuracy: 0.961\n",
            "4020.928516626358\n",
            "2019-06-05 15:25:01.841544\n",
            "Est: 150 / Depth: 15 / LR: 0.01 ---- Precision: 0.895 / Recall: 0.81 / Accuracy: 0.957\n",
            "4511.784834623337\n",
            "2019-06-05 15:33:12.698146\n",
            "Est: 150 / Depth: 15 / LR: 0.1 ---- Precision: 0.905 / Recall: 0.851 / Accuracy: 0.964\n",
            "4892.666565418243\n",
            "2019-06-05 15:39:33.579612\n",
            "Est: 150 / Depth: 15 / LR: 1 ---- Precision: 0.873 / Recall: 0.863 / Accuracy: 0.961\n",
            "4924.085728406906\n",
            "2019-06-05 15:40:04.998317\n",
            "2019-06-05 15:40:04.998828\n"
          ],
          "name": "stdout"
        }
      ]
    },
    {
      "cell_type": "markdown",
      "metadata": {
        "id": "Impwa5cw2h6D",
        "colab_type": "text"
      },
      "source": [
        "### Evaluating Gradient Boosting with GridSearchCV"
      ]
    },
    {
      "cell_type": "code",
      "metadata": {
        "id": "xy4E1P312h6D",
        "colab_type": "code",
        "colab": {}
      },
      "source": [
        "#from sklearn.model_selection import GridSearchCV\n",
        "\n",
        "gb2 = GradientBoostingClassifier()\n",
        "param = {\n",
        "    'n_estimators': [100, 150], \n",
        "    'max_depth': [7, 11, 15],\n",
        "    'learning_rate': [0.1]\n",
        "}\n",
        "\n",
        "clf = GridSearchCV(gb2, param, cv=5, n_jobs=-1)"
      ],
      "execution_count": 0,
      "outputs": []
    },
    {
      "cell_type": "code",
      "metadata": {
        "id": "JsYwmCJ92h6F",
        "colab_type": "code",
        "outputId": "a762b316-3e90-43c8-da59-0a55ddbc0b0f",
        "colab": {
          "base_uri": "https://localhost:8080/",
          "height": 530
        }
      },
      "source": [
        "start = time.time()\n",
        "print(datetime.datetime.now())\n",
        "\n",
        "cv_fit = clf.fit(X_features, data['label'])\n",
        "pd.DataFrame(cv_fit.cv_results_).sort_values('mean_test_score', ascending=False)[0:5]"
      ],
      "execution_count": 0,
      "outputs": [
        {
          "output_type": "stream",
          "text": [
            "2019-06-05 17:41:45.049319\n"
          ],
          "name": "stdout"
        },
        {
          "output_type": "stream",
          "text": [
            "/usr/local/lib/python3.6/dist-packages/joblib/externals/loky/process_executor.py:706: UserWarning: A worker stopped while some jobs were given to the executor. This can be caused by a too short worker timeout or by a memory leak.\n",
            "  \"timeout or by a memory leak.\", UserWarning\n"
          ],
          "name": "stderr"
        },
        {
          "output_type": "execute_result",
          "data": {
            "text/html": [
              "<div>\n",
              "<style scoped>\n",
              "    .dataframe tbody tr th:only-of-type {\n",
              "        vertical-align: middle;\n",
              "    }\n",
              "\n",
              "    .dataframe tbody tr th {\n",
              "        vertical-align: top;\n",
              "    }\n",
              "\n",
              "    .dataframe thead th {\n",
              "        text-align: right;\n",
              "    }\n",
              "</style>\n",
              "<table border=\"1\" class=\"dataframe\">\n",
              "  <thead>\n",
              "    <tr style=\"text-align: right;\">\n",
              "      <th></th>\n",
              "      <th>mean_fit_time</th>\n",
              "      <th>std_fit_time</th>\n",
              "      <th>mean_score_time</th>\n",
              "      <th>std_score_time</th>\n",
              "      <th>param_learning_rate</th>\n",
              "      <th>param_max_depth</th>\n",
              "      <th>param_n_estimators</th>\n",
              "      <th>params</th>\n",
              "      <th>split0_test_score</th>\n",
              "      <th>split1_test_score</th>\n",
              "      <th>split2_test_score</th>\n",
              "      <th>split3_test_score</th>\n",
              "      <th>split4_test_score</th>\n",
              "      <th>mean_test_score</th>\n",
              "      <th>std_test_score</th>\n",
              "      <th>rank_test_score</th>\n",
              "    </tr>\n",
              "  </thead>\n",
              "  <tbody>\n",
              "    <tr>\n",
              "      <th>3</th>\n",
              "      <td>400.922848</td>\n",
              "      <td>4.832045</td>\n",
              "      <td>0.269422</td>\n",
              "      <td>0.029250</td>\n",
              "      <td>0.1</td>\n",
              "      <td>11</td>\n",
              "      <td>150</td>\n",
              "      <td>{'learning_rate': 0.1, 'max_depth': 11, 'n_est...</td>\n",
              "      <td>0.965022</td>\n",
              "      <td>0.978437</td>\n",
              "      <td>0.969452</td>\n",
              "      <td>0.969452</td>\n",
              "      <td>0.965858</td>\n",
              "      <td>0.969643</td>\n",
              "      <td>0.004756</td>\n",
              "      <td>1</td>\n",
              "    </tr>\n",
              "    <tr>\n",
              "      <th>5</th>\n",
              "      <td>532.916284</td>\n",
              "      <td>52.900317</td>\n",
              "      <td>0.270886</td>\n",
              "      <td>0.037375</td>\n",
              "      <td>0.1</td>\n",
              "      <td>15</td>\n",
              "      <td>150</td>\n",
              "      <td>{'learning_rate': 0.1, 'max_depth': 15, 'n_est...</td>\n",
              "      <td>0.966816</td>\n",
              "      <td>0.977538</td>\n",
              "      <td>0.966757</td>\n",
              "      <td>0.967655</td>\n",
              "      <td>0.968553</td>\n",
              "      <td>0.969463</td>\n",
              "      <td>0.004089</td>\n",
              "      <td>2</td>\n",
              "    </tr>\n",
              "    <tr>\n",
              "      <th>4</th>\n",
              "      <td>392.412370</td>\n",
              "      <td>5.954117</td>\n",
              "      <td>0.269900</td>\n",
              "      <td>0.020680</td>\n",
              "      <td>0.1</td>\n",
              "      <td>15</td>\n",
              "      <td>100</td>\n",
              "      <td>{'learning_rate': 0.1, 'max_depth': 15, 'n_est...</td>\n",
              "      <td>0.964126</td>\n",
              "      <td>0.975741</td>\n",
              "      <td>0.968553</td>\n",
              "      <td>0.969452</td>\n",
              "      <td>0.968553</td>\n",
              "      <td>0.969283</td>\n",
              "      <td>0.003726</td>\n",
              "      <td>3</td>\n",
              "    </tr>\n",
              "    <tr>\n",
              "      <th>1</th>\n",
              "      <td>252.042311</td>\n",
              "      <td>2.375593</td>\n",
              "      <td>0.230772</td>\n",
              "      <td>0.015467</td>\n",
              "      <td>0.1</td>\n",
              "      <td>7</td>\n",
              "      <td>150</td>\n",
              "      <td>{'learning_rate': 0.1, 'max_depth': 7, 'n_esti...</td>\n",
              "      <td>0.965919</td>\n",
              "      <td>0.978437</td>\n",
              "      <td>0.969452</td>\n",
              "      <td>0.965858</td>\n",
              "      <td>0.965858</td>\n",
              "      <td>0.969104</td>\n",
              "      <td>0.004866</td>\n",
              "      <td>4</td>\n",
              "    </tr>\n",
              "    <tr>\n",
              "      <th>2</th>\n",
              "      <td>284.396742</td>\n",
              "      <td>4.462068</td>\n",
              "      <td>0.257225</td>\n",
              "      <td>0.029042</td>\n",
              "      <td>0.1</td>\n",
              "      <td>11</td>\n",
              "      <td>100</td>\n",
              "      <td>{'learning_rate': 0.1, 'max_depth': 11, 'n_est...</td>\n",
              "      <td>0.963229</td>\n",
              "      <td>0.978437</td>\n",
              "      <td>0.968553</td>\n",
              "      <td>0.967655</td>\n",
              "      <td>0.964960</td>\n",
              "      <td>0.968565</td>\n",
              "      <td>0.005287</td>\n",
              "      <td>5</td>\n",
              "    </tr>\n",
              "  </tbody>\n",
              "</table>\n",
              "</div>"
            ],
            "text/plain": [
              "   mean_fit_time  std_fit_time  ...  std_test_score  rank_test_score\n",
              "3     400.922848      4.832045  ...        0.004756                1\n",
              "5     532.916284     52.900317  ...        0.004089                2\n",
              "4     392.412370      5.954117  ...        0.003726                3\n",
              "1     252.042311      2.375593  ...        0.004866                4\n",
              "2     284.396742      4.462068  ...        0.005287                5\n",
              "\n",
              "[5 rows x 16 columns]"
            ]
          },
          "metadata": {
            "tags": []
          },
          "execution_count": 47
        }
      ]
    },
    {
      "cell_type": "code",
      "metadata": {
        "id": "ZeVQSFPl2h6J",
        "colab_type": "code",
        "outputId": "4aea29a2-d536-4065-e19d-b8a8495bf37d",
        "colab": {
          "base_uri": "https://localhost:8080/",
          "height": 51
        }
      },
      "source": [
        "end = time.time()\n",
        "fit_time = (end - start)\n",
        "print(fit_time)\n",
        "print(datetime.datetime.now())"
      ],
      "execution_count": 0,
      "outputs": [
        {
          "output_type": "stream",
          "text": [
            "5619.923640966415\n",
            "2019-06-05 19:15:24.973490\n"
          ],
          "name": "stdout"
        }
      ]
    },
    {
      "cell_type": "code",
      "metadata": {
        "id": "zvCCIpt92h6L",
        "colab_type": "code",
        "outputId": "93c1028c-0c88-4dd4-8796-41252b39f941",
        "colab": {
          "base_uri": "https://localhost:8080/",
          "height": 530
        }
      },
      "source": [
        "start = time.time()\n",
        "print(datetime.datetime.now())\n",
        "\n",
        "cv_fit = clf.fit(X_count_feat, data['label'])\n",
        "pd.DataFrame(cv_fit.cv_results_).sort_values('mean_test_score', ascending=False)[0:5]"
      ],
      "execution_count": 0,
      "outputs": [
        {
          "output_type": "stream",
          "text": [
            "2019-06-05 19:15:24.987180\n"
          ],
          "name": "stdout"
        },
        {
          "output_type": "stream",
          "text": [
            "/usr/local/lib/python3.6/dist-packages/joblib/externals/loky/process_executor.py:706: UserWarning: A worker stopped while some jobs were given to the executor. This can be caused by a too short worker timeout or by a memory leak.\n",
            "  \"timeout or by a memory leak.\", UserWarning\n"
          ],
          "name": "stderr"
        },
        {
          "output_type": "execute_result",
          "data": {
            "text/html": [
              "<div>\n",
              "<style scoped>\n",
              "    .dataframe tbody tr th:only-of-type {\n",
              "        vertical-align: middle;\n",
              "    }\n",
              "\n",
              "    .dataframe tbody tr th {\n",
              "        vertical-align: top;\n",
              "    }\n",
              "\n",
              "    .dataframe thead th {\n",
              "        text-align: right;\n",
              "    }\n",
              "</style>\n",
              "<table border=\"1\" class=\"dataframe\">\n",
              "  <thead>\n",
              "    <tr style=\"text-align: right;\">\n",
              "      <th></th>\n",
              "      <th>mean_fit_time</th>\n",
              "      <th>std_fit_time</th>\n",
              "      <th>mean_score_time</th>\n",
              "      <th>std_score_time</th>\n",
              "      <th>param_learning_rate</th>\n",
              "      <th>param_max_depth</th>\n",
              "      <th>param_n_estimators</th>\n",
              "      <th>params</th>\n",
              "      <th>split0_test_score</th>\n",
              "      <th>split1_test_score</th>\n",
              "      <th>split2_test_score</th>\n",
              "      <th>split3_test_score</th>\n",
              "      <th>split4_test_score</th>\n",
              "      <th>mean_test_score</th>\n",
              "      <th>std_test_score</th>\n",
              "      <th>rank_test_score</th>\n",
              "    </tr>\n",
              "  </thead>\n",
              "  <tbody>\n",
              "    <tr>\n",
              "      <th>1</th>\n",
              "      <td>248.861480</td>\n",
              "      <td>2.559488</td>\n",
              "      <td>0.225899</td>\n",
              "      <td>0.004942</td>\n",
              "      <td>0.1</td>\n",
              "      <td>7</td>\n",
              "      <td>150</td>\n",
              "      <td>{'learning_rate': 0.1, 'max_depth': 7, 'n_esti...</td>\n",
              "      <td>0.965022</td>\n",
              "      <td>0.980234</td>\n",
              "      <td>0.971249</td>\n",
              "      <td>0.961366</td>\n",
              "      <td>0.968553</td>\n",
              "      <td>0.969283</td>\n",
              "      <td>0.006405</td>\n",
              "      <td>1</td>\n",
              "    </tr>\n",
              "    <tr>\n",
              "      <th>5</th>\n",
              "      <td>518.763331</td>\n",
              "      <td>46.707888</td>\n",
              "      <td>0.256564</td>\n",
              "      <td>0.037313</td>\n",
              "      <td>0.1</td>\n",
              "      <td>15</td>\n",
              "      <td>150</td>\n",
              "      <td>{'learning_rate': 0.1, 'max_depth': 15, 'n_est...</td>\n",
              "      <td>0.963229</td>\n",
              "      <td>0.979335</td>\n",
              "      <td>0.970350</td>\n",
              "      <td>0.963163</td>\n",
              "      <td>0.970350</td>\n",
              "      <td>0.969283</td>\n",
              "      <td>0.005957</td>\n",
              "      <td>1</td>\n",
              "    </tr>\n",
              "    <tr>\n",
              "      <th>3</th>\n",
              "      <td>389.536492</td>\n",
              "      <td>2.906899</td>\n",
              "      <td>0.239769</td>\n",
              "      <td>0.008859</td>\n",
              "      <td>0.1</td>\n",
              "      <td>11</td>\n",
              "      <td>150</td>\n",
              "      <td>{'learning_rate': 0.1, 'max_depth': 11, 'n_est...</td>\n",
              "      <td>0.963229</td>\n",
              "      <td>0.978437</td>\n",
              "      <td>0.968553</td>\n",
              "      <td>0.964960</td>\n",
              "      <td>0.970350</td>\n",
              "      <td>0.969104</td>\n",
              "      <td>0.005304</td>\n",
              "      <td>3</td>\n",
              "    </tr>\n",
              "    <tr>\n",
              "      <th>2</th>\n",
              "      <td>277.462814</td>\n",
              "      <td>2.945051</td>\n",
              "      <td>0.221269</td>\n",
              "      <td>0.004369</td>\n",
              "      <td>0.1</td>\n",
              "      <td>11</td>\n",
              "      <td>100</td>\n",
              "      <td>{'learning_rate': 0.1, 'max_depth': 11, 'n_est...</td>\n",
              "      <td>0.964126</td>\n",
              "      <td>0.977538</td>\n",
              "      <td>0.966757</td>\n",
              "      <td>0.962264</td>\n",
              "      <td>0.970350</td>\n",
              "      <td>0.968205</td>\n",
              "      <td>0.005399</td>\n",
              "      <td>4</td>\n",
              "    </tr>\n",
              "    <tr>\n",
              "      <th>0</th>\n",
              "      <td>179.695558</td>\n",
              "      <td>1.012476</td>\n",
              "      <td>0.246364</td>\n",
              "      <td>0.035456</td>\n",
              "      <td>0.1</td>\n",
              "      <td>7</td>\n",
              "      <td>100</td>\n",
              "      <td>{'learning_rate': 0.1, 'max_depth': 7, 'n_esti...</td>\n",
              "      <td>0.963229</td>\n",
              "      <td>0.977538</td>\n",
              "      <td>0.968553</td>\n",
              "      <td>0.962264</td>\n",
              "      <td>0.967655</td>\n",
              "      <td>0.967846</td>\n",
              "      <td>0.005421</td>\n",
              "      <td>5</td>\n",
              "    </tr>\n",
              "  </tbody>\n",
              "</table>\n",
              "</div>"
            ],
            "text/plain": [
              "   mean_fit_time  std_fit_time  ...  std_test_score  rank_test_score\n",
              "1     248.861480      2.559488  ...        0.006405                1\n",
              "5     518.763331     46.707888  ...        0.005957                1\n",
              "3     389.536492      2.906899  ...        0.005304                3\n",
              "2     277.462814      2.945051  ...        0.005399                4\n",
              "0     179.695558      1.012476  ...        0.005421                5\n",
              "\n",
              "[5 rows x 16 columns]"
            ]
          },
          "metadata": {
            "tags": []
          },
          "execution_count": 49
        }
      ]
    },
    {
      "cell_type": "code",
      "metadata": {
        "id": "ZmFqD62I2h6N",
        "colab_type": "code",
        "outputId": "f3c36aa0-7e20-492f-bfb6-fb220258b75b",
        "colab": {
          "base_uri": "https://localhost:8080/",
          "height": 51
        }
      },
      "source": [
        "end = time.time()\n",
        "fit_time = (end - start)\n",
        "print(fit_time)\n",
        "print(datetime.datetime.now())"
      ],
      "execution_count": 0,
      "outputs": [
        {
          "output_type": "stream",
          "text": [
            "5366.802162647247\n",
            "2019-06-05 20:44:51.789477\n"
          ],
          "name": "stdout"
        }
      ]
    },
    {
      "cell_type": "code",
      "metadata": {
        "id": "A1TZFMohX7NF",
        "colab_type": "code",
        "colab": {}
      },
      "source": [
        ""
      ],
      "execution_count": 0,
      "outputs": []
    }
  ]
}