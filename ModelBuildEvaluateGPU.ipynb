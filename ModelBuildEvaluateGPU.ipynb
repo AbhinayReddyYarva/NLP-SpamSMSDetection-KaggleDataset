{
  "nbformat": 4,
  "nbformat_minor": 0,
  "metadata": {
    "colab": {
      "name": "ModelBuildEvaluateGPU.ipynb",
      "version": "0.3.2",
      "provenance": [],
      "collapsed_sections": [],
      "toc_visible": true,
      "include_colab_link": true
    },
    "language_info": {
      "codemirror_mode": {
        "name": "ipython",
        "version": 3
      },
      "file_extension": ".py",
      "mimetype": "text/x-python",
      "name": "python",
      "nbconvert_exporter": "python",
      "pygments_lexer": "ipython3",
      "version": "3.5.6"
    },
    "kernelspec": {
      "name": "python3",
      "display_name": "Python 3"
    },
    "accelerator": "GPU"
  },
  "cells": [
    {
      "cell_type": "markdown",
      "metadata": {
        "id": "view-in-github",
        "colab_type": "text"
      },
      "source": [
        "<a href=\"https://colab.research.google.com/github/AbhinayReddyYarva/NLP-SpamSMSDetection-KaggleDataset/blob/master/ModelBuildEvaluateGPU.ipynb\" target=\"_parent\"><img src=\"https://colab.research.google.com/assets/colab-badge.svg\" alt=\"Open In Colab\"/></a>"
      ]
    },
    {
      "cell_type": "markdown",
      "metadata": {
        "id": "wP7lt3FI2h4Z",
        "colab_type": "text"
      },
      "source": [
        "# Building ML Classifiers: Basic Random Forest & Gradient Boosting models (Running in Google colab with TPU)"
      ]
    },
    {
      "cell_type": "markdown",
      "metadata": {
        "id": "5U0cNcLU2h4a",
        "colab_type": "text"
      },
      "source": [
        "### Reading & cleaning text"
      ]
    },
    {
      "cell_type": "code",
      "metadata": {
        "id": "q204q3Zi2h4b",
        "colab_type": "code",
        "outputId": "2d1ab2cd-1c1b-47b9-b8c0-1f0c5b938799",
        "colab": {
          "base_uri": "https://localhost:8080/",
          "height": 323
        }
      },
      "source": [
        "import nltk\n",
        "import pandas as pd\n",
        "import re\n",
        "from sklearn.feature_extraction.text import TfidfVectorizer, CountVectorizer\n",
        "import string\n",
        "import time\n",
        "import datetime\n",
        "\n",
        "\n",
        "nltk.download('stopwords')\n",
        "\n",
        "stopwords = nltk.corpus.stopwords.words('english')\n",
        "ps = nltk.PorterStemmer()\n",
        "\n",
        "data = pd.read_csv(\"SMSSpamCollection.tsv\", sep='\\t')\n",
        "data.columns = ['label', 'body_text']\n",
        "\n",
        "def count_punct(text):\n",
        "    count = sum([1 for char in text if char in string.punctuation]) # Counting puntuations\n",
        "    return round(count/(len(text) - text.count(\" \")), 3)*100  # Percentage of punctuations\n",
        "\n",
        "data['body_len'] = data['body_text'].apply(lambda x: len(x) - x.count(\" \"))\n",
        "data['punct%'] = data['body_text'].apply(lambda x: count_punct(x))\n",
        "\n",
        "def clean_text(text):\n",
        "    text = \"\".join([word.lower() for word in text if word not in string.punctuation]) # removing puntuations and creating list\n",
        "    tokens = re.split('\\W+', text) # removing multiple special characters --> '\\W+' ('\\W' -> single special character)\n",
        "    #tokens = re.findall('\\w+', text)  # alternative to above statement (Split -> '\\W+'; findall -> '\\w+')\n",
        "    text = [ps.stem(word) for word in tokens if word not in stopwords]  # stemmig the words\n",
        "    return text\n",
        "\n",
        "# TF-IDF\n",
        "tfidf_vect = TfidfVectorizer(analyzer=clean_text)\n",
        "X_tfidf = tfidf_vect.fit_transform(data['body_text'])\n",
        "X_features = pd.concat([data['body_len'], data['punct%'], pd.DataFrame(X_tfidf.toarray())], axis=1)\n",
        "print(X_features.head())\n",
        "\n",
        "# CountVectorizer\n",
        "count_vect = CountVectorizer(analyzer=clean_text)\n",
        "X_count = count_vect.fit_transform(data['body_text'])\n",
        "X_count_feat = pd.concat([data['body_len'], data['punct%'], pd.DataFrame(X_count.toarray())], axis=1)\n",
        "print(X_count_feat.head())"
      ],
      "execution_count": 0,
      "outputs": [
        {
          "output_type": "stream",
          "text": [
            "[nltk_data] Downloading package stopwords to /root/nltk_data...\n",
            "[nltk_data]   Unzipping corpora/stopwords.zip.\n",
            "   body_len  punct%    0    1    2    3  ...  8098  8099  8100  8101  8102  8103\n",
            "0       128     4.7  0.0  0.0  0.0  0.0  ...   0.0   0.0   0.0   0.0   0.0   0.0\n",
            "1        49     4.1  0.0  0.0  0.0  0.0  ...   0.0   0.0   0.0   0.0   0.0   0.0\n",
            "2        62     3.2  0.0  0.0  0.0  0.0  ...   0.0   0.0   0.0   0.0   0.0   0.0\n",
            "3        28     7.1  0.0  0.0  0.0  0.0  ...   0.0   0.0   0.0   0.0   0.0   0.0\n",
            "4       135     4.4  0.0  0.0  0.0  0.0  ...   0.0   0.0   0.0   0.0   0.0   0.0\n",
            "\n",
            "[5 rows x 8106 columns]\n",
            "   body_len  punct%  0  1  2  3  4  ...  8097  8098  8099  8100  8101  8102  8103\n",
            "0       128     4.7  0  0  0  0  0  ...     0     0     0     0     0     0     0\n",
            "1        49     4.1  0  0  0  0  0  ...     0     0     0     0     0     0     0\n",
            "2        62     3.2  0  0  0  0  0  ...     0     0     0     0     0     0     0\n",
            "3        28     7.1  0  0  0  0  0  ...     0     0     0     0     0     0     0\n",
            "4       135     4.4  0  0  0  0  0  ...     0     0     0     0     0     0     0\n",
            "\n",
            "[5 rows x 8106 columns]\n"
          ],
          "name": "stdout"
        }
      ]
    },
    {
      "cell_type": "markdown",
      "metadata": {
        "id": "xrOp0xPs2h4k",
        "colab_type": "text"
      },
      "source": [
        "### Exploring RandomForestClassifier Attributes & Hyperparameters"
      ]
    },
    {
      "cell_type": "code",
      "metadata": {
        "id": "WWY4zw7E2h4l",
        "colab_type": "code",
        "colab": {}
      },
      "source": [
        "from sklearn.ensemble import RandomForestClassifier"
      ],
      "execution_count": 0,
      "outputs": []
    },
    {
      "cell_type": "code",
      "metadata": {
        "id": "YcUUDxyj2h4p",
        "colab_type": "code",
        "outputId": "d82a024b-ea4e-49f1-e49e-df9dc619b338",
        "colab": {
          "base_uri": "https://localhost:8080/",
          "height": 173
        }
      },
      "source": [
        "print(dir(RandomForestClassifier))\n",
        "print(RandomForestClassifier())"
      ],
      "execution_count": 0,
      "outputs": [
        {
          "output_type": "stream",
          "text": [
            "['__abstractmethods__', '__class__', '__delattr__', '__dict__', '__dir__', '__doc__', '__eq__', '__format__', '__ge__', '__getattribute__', '__getitem__', '__getstate__', '__gt__', '__hash__', '__init__', '__init_subclass__', '__iter__', '__le__', '__len__', '__lt__', '__module__', '__ne__', '__new__', '__reduce__', '__reduce_ex__', '__repr__', '__setattr__', '__setstate__', '__sizeof__', '__str__', '__subclasshook__', '__weakref__', '_abc_cache', '_abc_negative_cache', '_abc_negative_cache_version', '_abc_registry', '_estimator_type', '_get_param_names', '_get_tags', '_make_estimator', '_more_tags', '_required_parameters', '_set_oob_score', '_validate_X_predict', '_validate_estimator', '_validate_y_class_weight', 'apply', 'decision_path', 'feature_importances_', 'fit', 'get_params', 'predict', 'predict_log_proba', 'predict_proba', 'score', 'set_params']\n",
            "RandomForestClassifier(bootstrap=True, class_weight=None, criterion='gini',\n",
            "                       max_depth=None, max_features='auto', max_leaf_nodes=None,\n",
            "                       min_impurity_decrease=0.0, min_impurity_split=None,\n",
            "                       min_samples_leaf=1, min_samples_split=2,\n",
            "                       min_weight_fraction_leaf=0.0, n_estimators='warn',\n",
            "                       n_jobs=None, oob_score=False, random_state=None,\n",
            "                       verbose=0, warm_start=False)\n"
          ],
          "name": "stdout"
        }
      ]
    },
    {
      "cell_type": "markdown",
      "metadata": {
        "id": "OtCEV9va2h4t",
        "colab_type": "text"
      },
      "source": [
        "### Exploing RandomForestClassifier through Cross-Validation"
      ]
    },
    {
      "cell_type": "code",
      "metadata": {
        "id": "n6-NvVof2h4u",
        "colab_type": "code",
        "colab": {}
      },
      "source": [
        "from sklearn.model_selection import KFold, cross_val_score"
      ],
      "execution_count": 0,
      "outputs": []
    },
    {
      "cell_type": "code",
      "metadata": {
        "id": "XMAdVUbm2h4x",
        "colab_type": "code",
        "outputId": "e84961f8-8b3b-44bb-8675-22841a7f5d8c",
        "colab": {
          "base_uri": "https://localhost:8080/",
          "height": 88
        }
      },
      "source": [
        "rf_kfold = RandomForestClassifier(n_jobs=-1)\n",
        "k_fold = KFold(n_splits=5)\n",
        "cross_val_score(rf_kfold, X_features, data['label'], cv=k_fold, scoring='accuracy', n_jobs=-1)"
      ],
      "execution_count": 0,
      "outputs": [
        {
          "output_type": "stream",
          "text": [
            "/usr/local/lib/python3.6/dist-packages/joblib/externals/loky/process_executor.py:706: UserWarning: A worker stopped while some jobs were given to the executor. This can be caused by a too short worker timeout or by a memory leak.\n",
            "  \"timeout or by a memory leak.\", UserWarning\n"
          ],
          "name": "stderr"
        },
        {
          "output_type": "execute_result",
          "data": {
            "text/plain": [
              "array([0.97217235, 0.97396768, 0.9703504 , 0.95777179, 0.96855346])"
            ]
          },
          "metadata": {
            "tags": []
          },
          "execution_count": 6
        }
      ]
    },
    {
      "cell_type": "markdown",
      "metadata": {
        "id": "fXFOUwmd2h42",
        "colab_type": "text"
      },
      "source": [
        "### Exploring RandomForestClassifier through holdout set"
      ]
    },
    {
      "cell_type": "code",
      "metadata": {
        "id": "73g8M5BS2h43",
        "colab_type": "code",
        "colab": {}
      },
      "source": [
        "from sklearn.metrics import precision_recall_fscore_support as score\n",
        "from sklearn.model_selection import train_test_split"
      ],
      "execution_count": 0,
      "outputs": []
    },
    {
      "cell_type": "code",
      "metadata": {
        "id": "x6u4J2ex2h46",
        "colab_type": "code",
        "colab": {}
      },
      "source": [
        "X_train, X_test, y_train, y_test = train_test_split(X_features, data['label'], test_size=0.2)"
      ],
      "execution_count": 0,
      "outputs": []
    },
    {
      "cell_type": "code",
      "metadata": {
        "id": "cNNrq03s2h4-",
        "colab_type": "code",
        "colab": {}
      },
      "source": [
        "rf = RandomForestClassifier(n_estimators=50, max_depth=20, n_jobs=-1)\n",
        "rf_model = rf.fit(X_train, y_train)"
      ],
      "execution_count": 0,
      "outputs": []
    },
    {
      "cell_type": "code",
      "metadata": {
        "id": "czCTII4y2h5B",
        "colab_type": "code",
        "outputId": "370c6473-0ec8-43d9-c512-4f1087de1eb4",
        "colab": {
          "base_uri": "https://localhost:8080/",
          "height": 187
        }
      },
      "source": [
        "sorted(zip(rf_model.feature_importances_, X_train.columns), reverse=True)[0:10]"
      ],
      "execution_count": 0,
      "outputs": [
        {
          "output_type": "execute_result",
          "data": {
            "text/plain": [
              "[(0.05171580149791864, 'body_len'),\n",
              " (0.04373805861312181, 7350),\n",
              " (0.031866135091081334, 5724),\n",
              " (0.03109825660341768, 2031),\n",
              " (0.02681957094281602, 3134),\n",
              " (0.023411880422090213, 392),\n",
              " (0.022780378296251957, 4796),\n",
              " (0.021606176276297056, 6285),\n",
              " (0.021532508930721037, 7218),\n",
              " (0.01928722545545524, 7027)]"
            ]
          },
          "metadata": {
            "tags": []
          },
          "execution_count": 10
        }
      ]
    },
    {
      "cell_type": "code",
      "metadata": {
        "id": "KvGQa0zF2h5H",
        "colab_type": "code",
        "colab": {}
      },
      "source": [
        "y_pred = rf_model.predict(X_test)\n",
        "precision, recall, fscore, support = score(y_test, y_pred, pos_label='spam', average='binary')"
      ],
      "execution_count": 0,
      "outputs": []
    },
    {
      "cell_type": "code",
      "metadata": {
        "id": "K8U_nxWM2h5K",
        "colab_type": "code",
        "outputId": "d4486bf9-72ce-48d0-e0a5-cdbcbebd23fa",
        "colab": {
          "base_uri": "https://localhost:8080/",
          "height": 34
        }
      },
      "source": [
        "print('Precision: {} / Recall: {} / Accuracy: {}'.format(round(precision, 3),\n",
        "                                                        round(recall, 3),\n",
        "                                                        round((y_pred==y_test).sum() / len(y_pred),3)))"
      ],
      "execution_count": 0,
      "outputs": [
        {
          "output_type": "stream",
          "text": [
            "Precision: 1.0 / Recall: 0.529 / Accuracy: 0.942\n"
          ],
          "name": "stdout"
        }
      ]
    },
    {
      "cell_type": "markdown",
      "metadata": {
        "id": "aMtN7qtY2h5O",
        "colab_type": "text"
      },
      "source": [
        "### Building a Grid Search"
      ]
    },
    {
      "cell_type": "code",
      "metadata": {
        "id": "GA0EiFsq2h5P",
        "colab_type": "code",
        "colab": {}
      },
      "source": [
        "def train_RF(n_est, depth):\n",
        "    rf1 = RandomForestClassifier(n_estimators=n_est, max_depth=depth, n_jobs=-1)\n",
        "    rf_model1 = rf.fit(X_train, y_train)\n",
        "    y_pred1 = rf_model.predict(X_test)\n",
        "    precision1, recall1, fscore1, support1 = score(y_test, y_pred1, pos_label='spam', average='binary')\n",
        "    print('Est: {} / Depth: {} ---- Precision: {} / Recall: {} / Accuracy: {}'.format(\n",
        "        n_est, depth, round(precision1, 3), round(recall1, 3),\n",
        "        round((y_pred1==y_test).sum() / len(y_pred1), 3)))"
      ],
      "execution_count": 0,
      "outputs": []
    },
    {
      "cell_type": "code",
      "metadata": {
        "id": "Ez-biorU2h5S",
        "colab_type": "code",
        "outputId": "a50a1c17-daa3-4bbf-d8a4-9e00a4fd0d4c",
        "colab": {
          "base_uri": "https://localhost:8080/",
          "height": 255
        }
      },
      "source": [
        "print(datetime.datetime.now())\n",
        "for n_est in [10, 50, 100]:\n",
        "    for depth in [10, 20, 30, None]:\n",
        "        train_RF(n_est, depth)\n",
        "print(datetime.datetime.now())"
      ],
      "execution_count": 0,
      "outputs": [
        {
          "output_type": "stream",
          "text": [
            "2019-06-05 21:17:38.800092\n",
            "Est: 10 / Depth: 10 ---- Precision: 1.0 / Recall: 0.536 / Accuracy: 0.943\n",
            "Est: 10 / Depth: 20 ---- Precision: 1.0 / Recall: 0.536 / Accuracy: 0.943\n",
            "Est: 10 / Depth: 30 ---- Precision: 1.0 / Recall: 0.565 / Accuracy: 0.946\n",
            "Est: 10 / Depth: None ---- Precision: 1.0 / Recall: 0.572 / Accuracy: 0.947\n",
            "Est: 50 / Depth: 10 ---- Precision: 1.0 / Recall: 0.529 / Accuracy: 0.942\n",
            "Est: 50 / Depth: 20 ---- Precision: 1.0 / Recall: 0.536 / Accuracy: 0.943\n",
            "Est: 50 / Depth: 30 ---- Precision: 1.0 / Recall: 0.543 / Accuracy: 0.943\n",
            "Est: 50 / Depth: None ---- Precision: 1.0 / Recall: 0.594 / Accuracy: 0.95\n",
            "Est: 100 / Depth: 10 ---- Precision: 1.0 / Recall: 0.5 / Accuracy: 0.938\n",
            "Est: 100 / Depth: 20 ---- Precision: 1.0 / Recall: 0.601 / Accuracy: 0.951\n",
            "Est: 100 / Depth: 30 ---- Precision: 1.0 / Recall: 0.551 / Accuracy: 0.944\n",
            "Est: 100 / Depth: None ---- Precision: 1.0 / Recall: 0.522 / Accuracy: 0.941\n",
            "2019-06-05 21:17:53.000891\n"
          ],
          "name": "stdout"
        }
      ]
    },
    {
      "cell_type": "markdown",
      "metadata": {
        "id": "uzKdmCPM2h5W",
        "colab_type": "text"
      },
      "source": [
        "### Evaluating Random forest with GridSearchCV"
      ]
    },
    {
      "cell_type": "code",
      "metadata": {
        "id": "UYhCfJZS2h5Y",
        "colab_type": "code",
        "colab": {}
      },
      "source": [
        "import warnings\n",
        "warnings.filterwarnings(\"ignore\", category=DeprecationWarning)"
      ],
      "execution_count": 0,
      "outputs": []
    },
    {
      "cell_type": "code",
      "metadata": {
        "id": "3I1t7hHR2h5c",
        "colab_type": "code",
        "colab": {}
      },
      "source": [
        "from sklearn.model_selection import GridSearchCV"
      ],
      "execution_count": 0,
      "outputs": []
    },
    {
      "cell_type": "code",
      "metadata": {
        "id": "jlvOYyFz2h5f",
        "colab_type": "code",
        "colab": {}
      },
      "source": [
        "rf2 = RandomForestClassifier()\n",
        "param = {'n_estimators': [10, 150, 300],\n",
        "        'max_depth': [30, 60, 90, None]}\n",
        "\n",
        "gs = GridSearchCV(rf2, param, cv=5, n_jobs=-1)"
      ],
      "execution_count": 0,
      "outputs": []
    },
    {
      "cell_type": "code",
      "metadata": {
        "id": "J-vY8Atf2h5j",
        "colab_type": "code",
        "outputId": "7a4848f7-c876-45d3-adab-a8d66eb4578f",
        "colab": {
          "base_uri": "https://localhost:8080/",
          "height": 530
        }
      },
      "source": [
        "start = time.time()\n",
        "print(datetime.datetime.now())\n",
        "\n",
        "gs_fit1 = gs.fit(X_features, data['label'])\n",
        "pd.DataFrame(gs_fit1.cv_results_).sort_values('mean_test_score', ascending=False)[0:5]"
      ],
      "execution_count": 0,
      "outputs": [
        {
          "output_type": "stream",
          "text": [
            "2019-06-05 21:17:53.045977\n"
          ],
          "name": "stdout"
        },
        {
          "output_type": "stream",
          "text": [
            "/usr/local/lib/python3.6/dist-packages/joblib/externals/loky/process_executor.py:706: UserWarning: A worker stopped while some jobs were given to the executor. This can be caused by a too short worker timeout or by a memory leak.\n",
            "  \"timeout or by a memory leak.\", UserWarning\n"
          ],
          "name": "stderr"
        },
        {
          "output_type": "execute_result",
          "data": {
            "text/html": [
              "<div>\n",
              "<style scoped>\n",
              "    .dataframe tbody tr th:only-of-type {\n",
              "        vertical-align: middle;\n",
              "    }\n",
              "\n",
              "    .dataframe tbody tr th {\n",
              "        vertical-align: top;\n",
              "    }\n",
              "\n",
              "    .dataframe thead th {\n",
              "        text-align: right;\n",
              "    }\n",
              "</style>\n",
              "<table border=\"1\" class=\"dataframe\">\n",
              "  <thead>\n",
              "    <tr style=\"text-align: right;\">\n",
              "      <th></th>\n",
              "      <th>mean_fit_time</th>\n",
              "      <th>std_fit_time</th>\n",
              "      <th>mean_score_time</th>\n",
              "      <th>std_score_time</th>\n",
              "      <th>param_max_depth</th>\n",
              "      <th>param_n_estimators</th>\n",
              "      <th>params</th>\n",
              "      <th>split0_test_score</th>\n",
              "      <th>split1_test_score</th>\n",
              "      <th>split2_test_score</th>\n",
              "      <th>split3_test_score</th>\n",
              "      <th>split4_test_score</th>\n",
              "      <th>mean_test_score</th>\n",
              "      <th>std_test_score</th>\n",
              "      <th>rank_test_score</th>\n",
              "    </tr>\n",
              "  </thead>\n",
              "  <tbody>\n",
              "    <tr>\n",
              "      <th>7</th>\n",
              "      <td>15.031352</td>\n",
              "      <td>0.228887</td>\n",
              "      <td>0.174326</td>\n",
              "      <td>0.015621</td>\n",
              "      <td>90</td>\n",
              "      <td>150</td>\n",
              "      <td>{'max_depth': 90, 'n_estimators': 150}</td>\n",
              "      <td>0.980269</td>\n",
              "      <td>0.979335</td>\n",
              "      <td>0.973944</td>\n",
              "      <td>0.966757</td>\n",
              "      <td>0.971249</td>\n",
              "      <td>0.974313</td>\n",
              "      <td>0.005047</td>\n",
              "      <td>1</td>\n",
              "    </tr>\n",
              "    <tr>\n",
              "      <th>10</th>\n",
              "      <td>16.435477</td>\n",
              "      <td>0.314616</td>\n",
              "      <td>0.173929</td>\n",
              "      <td>0.004407</td>\n",
              "      <td>None</td>\n",
              "      <td>150</td>\n",
              "      <td>{'max_depth': None, 'n_estimators': 150}</td>\n",
              "      <td>0.977578</td>\n",
              "      <td>0.977538</td>\n",
              "      <td>0.975741</td>\n",
              "      <td>0.966757</td>\n",
              "      <td>0.973944</td>\n",
              "      <td>0.974313</td>\n",
              "      <td>0.004008</td>\n",
              "      <td>1</td>\n",
              "    </tr>\n",
              "    <tr>\n",
              "      <th>3</th>\n",
              "      <td>1.157143</td>\n",
              "      <td>0.011932</td>\n",
              "      <td>0.073879</td>\n",
              "      <td>0.001593</td>\n",
              "      <td>60</td>\n",
              "      <td>10</td>\n",
              "      <td>{'max_depth': 60, 'n_estimators': 10}</td>\n",
              "      <td>0.977578</td>\n",
              "      <td>0.979335</td>\n",
              "      <td>0.975741</td>\n",
              "      <td>0.968553</td>\n",
              "      <td>0.969452</td>\n",
              "      <td>0.974133</td>\n",
              "      <td>0.004349</td>\n",
              "      <td>3</td>\n",
              "    </tr>\n",
              "    <tr>\n",
              "      <th>6</th>\n",
              "      <td>1.349629</td>\n",
              "      <td>0.011598</td>\n",
              "      <td>0.073353</td>\n",
              "      <td>0.000813</td>\n",
              "      <td>90</td>\n",
              "      <td>10</td>\n",
              "      <td>{'max_depth': 90, 'n_estimators': 10}</td>\n",
              "      <td>0.977578</td>\n",
              "      <td>0.977538</td>\n",
              "      <td>0.978437</td>\n",
              "      <td>0.959569</td>\n",
              "      <td>0.973944</td>\n",
              "      <td>0.973415</td>\n",
              "      <td>0.007092</td>\n",
              "      <td>4</td>\n",
              "    </tr>\n",
              "    <tr>\n",
              "      <th>8</th>\n",
              "      <td>29.419046</td>\n",
              "      <td>0.344261</td>\n",
              "      <td>0.256684</td>\n",
              "      <td>0.004135</td>\n",
              "      <td>90</td>\n",
              "      <td>300</td>\n",
              "      <td>{'max_depth': 90, 'n_estimators': 300}</td>\n",
              "      <td>0.976682</td>\n",
              "      <td>0.976640</td>\n",
              "      <td>0.974843</td>\n",
              "      <td>0.968553</td>\n",
              "      <td>0.970350</td>\n",
              "      <td>0.973415</td>\n",
              "      <td>0.003351</td>\n",
              "      <td>4</td>\n",
              "    </tr>\n",
              "  </tbody>\n",
              "</table>\n",
              "</div>"
            ],
            "text/plain": [
              "    mean_fit_time  std_fit_time  ...  std_test_score  rank_test_score\n",
              "7       15.031352      0.228887  ...        0.005047                1\n",
              "10      16.435477      0.314616  ...        0.004008                1\n",
              "3        1.157143      0.011932  ...        0.004349                3\n",
              "6        1.349629      0.011598  ...        0.007092                4\n",
              "8       29.419046      0.344261  ...        0.003351                4\n",
              "\n",
              "[5 rows x 15 columns]"
            ]
          },
          "metadata": {
            "tags": []
          },
          "execution_count": 18
        }
      ]
    },
    {
      "cell_type": "code",
      "metadata": {
        "id": "n7XsnLZ92h5p",
        "colab_type": "code",
        "outputId": "5f7bf124-99cf-43a7-87cd-8a5e931070c0",
        "colab": {
          "base_uri": "https://localhost:8080/",
          "height": 51
        }
      },
      "source": [
        "end = time.time()\n",
        "fit_time = (end - start)\n",
        "print(fit_time)\n",
        "print(datetime.datetime.now())"
      ],
      "execution_count": 0,
      "outputs": [
        {
          "output_type": "stream",
          "text": [
            "422.89899611473083\n",
            "2019-06-05 21:24:55.945895\n"
          ],
          "name": "stdout"
        }
      ]
    },
    {
      "cell_type": "code",
      "metadata": {
        "id": "Cjiob6EA2h5u",
        "colab_type": "code",
        "outputId": "12f8d36a-2916-43f1-8d52-1a2e7f6e6ea3",
        "colab": {
          "base_uri": "https://localhost:8080/",
          "height": 530
        }
      },
      "source": [
        "start = time.time()\n",
        "print(datetime.datetime.now())\n",
        "\n",
        "gs_fit2 = gs.fit(X_count_feat, data['label'])\n",
        "pd.DataFrame(gs_fit2.cv_results_).sort_values('mean_test_score', ascending=False)[0:5]"
      ],
      "execution_count": 0,
      "outputs": [
        {
          "output_type": "stream",
          "text": [
            "2019-06-05 21:24:55.955070\n"
          ],
          "name": "stdout"
        },
        {
          "output_type": "stream",
          "text": [
            "/usr/local/lib/python3.6/dist-packages/joblib/externals/loky/process_executor.py:706: UserWarning: A worker stopped while some jobs were given to the executor. This can be caused by a too short worker timeout or by a memory leak.\n",
            "  \"timeout or by a memory leak.\", UserWarning\n"
          ],
          "name": "stderr"
        },
        {
          "output_type": "execute_result",
          "data": {
            "text/html": [
              "<div>\n",
              "<style scoped>\n",
              "    .dataframe tbody tr th:only-of-type {\n",
              "        vertical-align: middle;\n",
              "    }\n",
              "\n",
              "    .dataframe tbody tr th {\n",
              "        vertical-align: top;\n",
              "    }\n",
              "\n",
              "    .dataframe thead th {\n",
              "        text-align: right;\n",
              "    }\n",
              "</style>\n",
              "<table border=\"1\" class=\"dataframe\">\n",
              "  <thead>\n",
              "    <tr style=\"text-align: right;\">\n",
              "      <th></th>\n",
              "      <th>mean_fit_time</th>\n",
              "      <th>std_fit_time</th>\n",
              "      <th>mean_score_time</th>\n",
              "      <th>std_score_time</th>\n",
              "      <th>param_max_depth</th>\n",
              "      <th>param_n_estimators</th>\n",
              "      <th>params</th>\n",
              "      <th>split0_test_score</th>\n",
              "      <th>split1_test_score</th>\n",
              "      <th>split2_test_score</th>\n",
              "      <th>split3_test_score</th>\n",
              "      <th>split4_test_score</th>\n",
              "      <th>mean_test_score</th>\n",
              "      <th>std_test_score</th>\n",
              "      <th>rank_test_score</th>\n",
              "    </tr>\n",
              "  </thead>\n",
              "  <tbody>\n",
              "    <tr>\n",
              "      <th>6</th>\n",
              "      <td>1.893950</td>\n",
              "      <td>0.233560</td>\n",
              "      <td>0.068530</td>\n",
              "      <td>0.003222</td>\n",
              "      <td>90</td>\n",
              "      <td>10</td>\n",
              "      <td>{'max_depth': 90, 'n_estimators': 10}</td>\n",
              "      <td>0.977578</td>\n",
              "      <td>0.971249</td>\n",
              "      <td>0.973046</td>\n",
              "      <td>0.976640</td>\n",
              "      <td>0.967655</td>\n",
              "      <td>0.973235</td>\n",
              "      <td>0.003622</td>\n",
              "      <td>1</td>\n",
              "    </tr>\n",
              "    <tr>\n",
              "      <th>8</th>\n",
              "      <td>29.650184</td>\n",
              "      <td>0.385415</td>\n",
              "      <td>0.258950</td>\n",
              "      <td>0.013477</td>\n",
              "      <td>90</td>\n",
              "      <td>300</td>\n",
              "      <td>{'max_depth': 90, 'n_estimators': 300}</td>\n",
              "      <td>0.976682</td>\n",
              "      <td>0.975741</td>\n",
              "      <td>0.973046</td>\n",
              "      <td>0.967655</td>\n",
              "      <td>0.970350</td>\n",
              "      <td>0.972696</td>\n",
              "      <td>0.003353</td>\n",
              "      <td>2</td>\n",
              "    </tr>\n",
              "    <tr>\n",
              "      <th>7</th>\n",
              "      <td>15.258343</td>\n",
              "      <td>0.213648</td>\n",
              "      <td>0.159749</td>\n",
              "      <td>0.001054</td>\n",
              "      <td>90</td>\n",
              "      <td>150</td>\n",
              "      <td>{'max_depth': 90, 'n_estimators': 150}</td>\n",
              "      <td>0.978475</td>\n",
              "      <td>0.975741</td>\n",
              "      <td>0.972147</td>\n",
              "      <td>0.967655</td>\n",
              "      <td>0.968553</td>\n",
              "      <td>0.972517</td>\n",
              "      <td>0.004133</td>\n",
              "      <td>3</td>\n",
              "    </tr>\n",
              "    <tr>\n",
              "      <th>11</th>\n",
              "      <td>31.564750</td>\n",
              "      <td>2.344075</td>\n",
              "      <td>0.264692</td>\n",
              "      <td>0.031661</td>\n",
              "      <td>None</td>\n",
              "      <td>300</td>\n",
              "      <td>{'max_depth': None, 'n_estimators': 300}</td>\n",
              "      <td>0.976682</td>\n",
              "      <td>0.973944</td>\n",
              "      <td>0.974843</td>\n",
              "      <td>0.968553</td>\n",
              "      <td>0.968553</td>\n",
              "      <td>0.972517</td>\n",
              "      <td>0.003353</td>\n",
              "      <td>3</td>\n",
              "    </tr>\n",
              "    <tr>\n",
              "      <th>10</th>\n",
              "      <td>16.796552</td>\n",
              "      <td>0.235082</td>\n",
              "      <td>0.176762</td>\n",
              "      <td>0.008660</td>\n",
              "      <td>None</td>\n",
              "      <td>150</td>\n",
              "      <td>{'max_depth': None, 'n_estimators': 150}</td>\n",
              "      <td>0.975785</td>\n",
              "      <td>0.973046</td>\n",
              "      <td>0.973944</td>\n",
              "      <td>0.968553</td>\n",
              "      <td>0.968553</td>\n",
              "      <td>0.971978</td>\n",
              "      <td>0.002931</td>\n",
              "      <td>5</td>\n",
              "    </tr>\n",
              "  </tbody>\n",
              "</table>\n",
              "</div>"
            ],
            "text/plain": [
              "    mean_fit_time  std_fit_time  ...  std_test_score  rank_test_score\n",
              "6        1.893950      0.233560  ...        0.003622                1\n",
              "8       29.650184      0.385415  ...        0.003353                2\n",
              "7       15.258343      0.213648  ...        0.004133                3\n",
              "11      31.564750      2.344075  ...        0.003353                3\n",
              "10      16.796552      0.235082  ...        0.002931                5\n",
              "\n",
              "[5 rows x 15 columns]"
            ]
          },
          "metadata": {
            "tags": []
          },
          "execution_count": 20
        }
      ]
    },
    {
      "cell_type": "code",
      "metadata": {
        "id": "L_N3CHMc2h5x",
        "colab_type": "code",
        "outputId": "b2b36422-bd0a-40ce-eb52-9001da1b1746",
        "colab": {
          "base_uri": "https://localhost:8080/",
          "height": 51
        }
      },
      "source": [
        "end = time.time()\n",
        "fit_time = (end - start)\n",
        "print(fit_time)\n",
        "print(datetime.datetime.now())"
      ],
      "execution_count": 0,
      "outputs": [
        {
          "output_type": "stream",
          "text": [
            "430.40967655181885\n",
            "2019-06-05 21:32:06.365831\n"
          ],
          "name": "stdout"
        }
      ]
    },
    {
      "cell_type": "markdown",
      "metadata": {
        "id": "_uy_IUbR2h51",
        "colab_type": "text"
      },
      "source": [
        "### Exploring GradientBoostingClassifier Attributes & Hyperparameters"
      ]
    },
    {
      "cell_type": "code",
      "metadata": {
        "id": "YHk1jQL62h53",
        "colab_type": "code",
        "colab": {}
      },
      "source": [
        "from sklearn.ensemble import GradientBoostingClassifier"
      ],
      "execution_count": 0,
      "outputs": []
    },
    {
      "cell_type": "code",
      "metadata": {
        "id": "cuCU03zM2h56",
        "colab_type": "code",
        "outputId": "020d744d-8d24-4883-8e3f-7fb5518b6ddd",
        "colab": {
          "base_uri": "https://localhost:8080/",
          "height": 224
        }
      },
      "source": [
        "print(dir(GradientBoostingClassifier))\n",
        "print(GradientBoostingClassifier())"
      ],
      "execution_count": 0,
      "outputs": [
        {
          "output_type": "stream",
          "text": [
            "['_SUPPORTED_LOSS', '__abstractmethods__', '__class__', '__delattr__', '__dict__', '__dir__', '__doc__', '__eq__', '__format__', '__ge__', '__getattribute__', '__getitem__', '__getstate__', '__gt__', '__hash__', '__init__', '__init_subclass__', '__iter__', '__le__', '__len__', '__lt__', '__module__', '__ne__', '__new__', '__reduce__', '__reduce_ex__', '__repr__', '__setattr__', '__setstate__', '__sizeof__', '__str__', '__subclasshook__', '__weakref__', '_abc_cache', '_abc_negative_cache', '_abc_negative_cache_version', '_abc_registry', '_check_initialized', '_check_params', '_clear_state', '_estimator_type', '_fit_stage', '_fit_stages', '_get_param_names', '_get_tags', '_init_state', '_is_initialized', '_make_estimator', '_raw_predict', '_raw_predict_init', '_required_parameters', '_resize_state', '_staged_raw_predict', '_validate_estimator', '_validate_y', 'apply', 'decision_function', 'feature_importances_', 'fit', 'get_params', 'predict', 'predict_log_proba', 'predict_proba', 'score', 'set_params', 'staged_decision_function', 'staged_predict', 'staged_predict_proba']\n",
            "GradientBoostingClassifier(criterion='friedman_mse', init=None,\n",
            "                           learning_rate=0.1, loss='deviance', max_depth=3,\n",
            "                           max_features=None, max_leaf_nodes=None,\n",
            "                           min_impurity_decrease=0.0, min_impurity_split=None,\n",
            "                           min_samples_leaf=1, min_samples_split=2,\n",
            "                           min_weight_fraction_leaf=0.0, n_estimators=100,\n",
            "                           n_iter_no_change=None, presort='auto',\n",
            "                           random_state=None, subsample=1.0, tol=0.0001,\n",
            "                           validation_fraction=0.1, verbose=0,\n",
            "                           warm_start=False)\n"
          ],
          "name": "stdout"
        }
      ]
    },
    {
      "cell_type": "markdown",
      "metadata": {
        "id": "Kw0DR8YU2h59",
        "colab_type": "text"
      },
      "source": [
        "### Building a Grid Search for Gradient Boosting"
      ]
    },
    {
      "cell_type": "code",
      "metadata": {
        "id": "n0lm-sWt2h59",
        "colab_type": "code",
        "colab": {}
      },
      "source": [
        "def train_GB(est, max_depth, lr):\n",
        "    gb = GradientBoostingClassifier(n_estimators=est, max_depth=max_depth, learning_rate=lr)\n",
        "    gb_model = gb.fit(X_train, y_train)\n",
        "    y_pred2 = gb_model.predict(X_test)\n",
        "    precision2, recall2, fscore2, train_support2 = score(y_test, y_pred2, pos_label='spam', average='binary')\n",
        "    print('Est: {} / Depth: {} / LR: {} ---- Precision: {} / Recall: {} / Accuracy: {}'.format(\n",
        "        est, max_depth, lr, round(precision2, 3), round(recall2, 3), \n",
        "        round((y_pred2==y_test).sum()/len(y_pred2), 3)))"
      ],
      "execution_count": 0,
      "outputs": []
    },
    {
      "cell_type": "code",
      "metadata": {
        "id": "k_DR7JFo2h6A",
        "colab_type": "code",
        "outputId": "dc0a1104-c19b-4089-da45-c6fe80a63252",
        "colab": {
          "base_uri": "https://localhost:8080/",
          "height": 1975
        }
      },
      "source": [
        "start = time.time()\n",
        "print(datetime.datetime.now())\n",
        "\n",
        "for n_est in [50, 100, 150]:\n",
        "    for max_depth in [3, 7, 11, 15]:\n",
        "        for lr in [0.01, 0.1, 1]:\n",
        "            train_GB(n_est, max_depth, lr)\n",
        "            end = time.time()\n",
        "            fit_time = (end - start)\n",
        "            print(fit_time)\n",
        "            print(datetime.datetime.now())\n",
        "print(datetime.datetime.now())"
      ],
      "execution_count": 0,
      "outputs": [
        {
          "output_type": "stream",
          "text": [
            "2019-06-05 21:32:06.404302\n"
          ],
          "name": "stdout"
        },
        {
          "output_type": "stream",
          "text": [
            "/usr/local/lib/python3.6/dist-packages/sklearn/metrics/classification.py:1437: UndefinedMetricWarning: Precision and F-score are ill-defined and being set to 0.0 due to no predicted samples.\n",
            "  'precision', 'predicted', average, warn_for)\n"
          ],
          "name": "stderr"
        },
        {
          "output_type": "stream",
          "text": [
            "Est: 50 / Depth: 3 / LR: 0.01 ---- Precision: 0.0 / Recall: 0.0 / Accuracy: 0.876\n",
            "30.335994720458984\n",
            "2019-06-05 21:32:36.740292\n",
            "Est: 50 / Depth: 3 / LR: 0.1 ---- Precision: 0.925 / Recall: 0.717 / Accuracy: 0.958\n",
            "55.78804540634155\n",
            "2019-06-05 21:33:02.192328\n",
            "Est: 50 / Depth: 3 / LR: 1 ---- Precision: 0.886 / Recall: 0.79 / Accuracy: 0.961\n",
            "74.34766364097595\n",
            "2019-06-05 21:33:20.752341\n",
            "Est: 50 / Depth: 7 / LR: 0.01 ---- Precision: 1.0 / Recall: 0.007 / Accuracy: 0.877\n",
            "143.74246335029602\n",
            "2019-06-05 21:34:30.147090\n",
            "Est: 50 / Depth: 7 / LR: 0.1 ---- Precision: 0.911 / Recall: 0.812 / Accuracy: 0.967\n",
            "204.8179795742035\n",
            "2019-06-05 21:35:31.222652\n",
            "Est: 50 / Depth: 7 / LR: 1 ---- Precision: 0.868 / Recall: 0.812 / Accuracy: 0.961\n",
            "248.13868927955627\n",
            "2019-06-05 21:36:14.543344\n",
            "Est: 50 / Depth: 11 / LR: 0.01 ---- Precision: 1.0 / Recall: 0.007 / Accuracy: 0.877\n",
            "352.121258020401\n",
            "2019-06-05 21:37:58.525559\n",
            "Est: 50 / Depth: 11 / LR: 0.1 ---- Precision: 0.891 / Recall: 0.826 / Accuracy: 0.966\n",
            "446.6251826286316\n",
            "2019-06-05 21:39:33.029484\n",
            "Est: 50 / Depth: 11 / LR: 1 ---- Precision: 0.877 / Recall: 0.826 / Accuracy: 0.964\n",
            "491.60826778411865\n",
            "2019-06-05 21:40:18.012900\n"
          ],
          "name": "stdout"
        },
        {
          "output_type": "stream",
          "text": [
            "/usr/local/lib/python3.6/dist-packages/sklearn/metrics/classification.py:1437: UndefinedMetricWarning: Precision and F-score are ill-defined and being set to 0.0 due to no predicted samples.\n",
            "  'precision', 'predicted', average, warn_for)\n"
          ],
          "name": "stderr"
        },
        {
          "output_type": "stream",
          "text": [
            "Est: 50 / Depth: 15 / LR: 0.01 ---- Precision: 0.0 / Recall: 0.0 / Accuracy: 0.876\n",
            "622.8722188472748\n",
            "2019-06-05 21:42:29.276504\n",
            "Est: 50 / Depth: 15 / LR: 0.1 ---- Precision: 0.896 / Recall: 0.812 / Accuracy: 0.965\n",
            "754.9626662731171\n",
            "2019-06-05 21:44:41.367267\n",
            "Est: 50 / Depth: 15 / LR: 1 ---- Precision: 0.87 / Recall: 0.826 / Accuracy: 0.963\n",
            "788.8237068653107\n",
            "2019-06-05 21:45:15.228009\n",
            "Est: 100 / Depth: 3 / LR: 0.01 ---- Precision: 0.939 / Recall: 0.558 / Accuracy: 0.941\n",
            "849.0492794513702\n",
            "2019-06-05 21:46:15.453893\n",
            "Est: 100 / Depth: 3 / LR: 0.1 ---- Precision: 0.923 / Recall: 0.783 / Accuracy: 0.965\n",
            "893.4717948436737\n",
            "2019-06-05 21:46:59.876090\n",
            "Est: 100 / Depth: 3 / LR: 1 ---- Precision: 0.893 / Recall: 0.79 / Accuracy: 0.962\n",
            "928.7434177398682\n",
            "2019-06-05 21:47:35.147716\n",
            "Est: 100 / Depth: 7 / LR: 0.01 ---- Precision: 0.938 / Recall: 0.652 / Accuracy: 0.952\n",
            "1069.1125764846802\n",
            "2019-06-05 21:49:55.517237\n",
            "Est: 100 / Depth: 7 / LR: 0.1 ---- Precision: 0.928 / Recall: 0.841 / Accuracy: 0.972\n",
            "1172.1426792144775\n",
            "2019-06-05 21:51:38.546974\n",
            "Est: 100 / Depth: 7 / LR: 1 ---- Precision: 0.873 / Recall: 0.797 / Accuracy: 0.961\n",
            "1219.55349111557\n",
            "2019-06-05 21:52:25.958134\n",
            "Est: 100 / Depth: 11 / LR: 0.01 ---- Precision: 0.893 / Recall: 0.725 / Accuracy: 0.955\n",
            "1426.012228012085\n",
            "2019-06-05 21:55:52.416917\n",
            "Est: 100 / Depth: 11 / LR: 0.1 ---- Precision: 0.893 / Recall: 0.848 / Accuracy: 0.969\n",
            "1589.7631554603577\n",
            "2019-06-05 21:58:36.167442\n",
            "Est: 100 / Depth: 11 / LR: 1 ---- Precision: 0.883 / Recall: 0.819 / Accuracy: 0.964\n",
            "1636.5530753135681\n",
            "2019-06-05 21:59:22.957748\n",
            "Est: 100 / Depth: 15 / LR: 0.01 ---- Precision: 0.898 / Recall: 0.768 / Accuracy: 0.961\n",
            "1894.9796979427338\n",
            "2019-06-05 22:03:41.383996\n",
            "Est: 100 / Depth: 15 / LR: 0.1 ---- Precision: 0.885 / Recall: 0.841 / Accuracy: 0.967\n",
            "2115.0423970222473\n",
            "2019-06-05 22:07:21.446702\n",
            "Est: 100 / Depth: 15 / LR: 1 ---- Precision: 0.862 / Recall: 0.812 / Accuracy: 0.961\n",
            "2152.6933267116547\n",
            "2019-06-05 22:07:59.097614\n",
            "Est: 150 / Depth: 3 / LR: 0.01 ---- Precision: 0.929 / Recall: 0.572 / Accuracy: 0.942\n",
            "2238.8283014297485\n",
            "2019-06-05 22:09:25.232603\n",
            "Est: 150 / Depth: 3 / LR: 0.1 ---- Precision: 0.943 / Recall: 0.833 / Accuracy: 0.973\n",
            "2300.1786620616913\n",
            "2019-06-05 22:10:26.582951\n",
            "Est: 150 / Depth: 3 / LR: 1 ---- Precision: 0.902 / Recall: 0.804 / Accuracy: 0.965\n",
            "2351.752432346344\n",
            "2019-06-05 22:11:18.157101\n",
            "Est: 150 / Depth: 7 / LR: 0.01 ---- Precision: 0.933 / Recall: 0.703 / Accuracy: 0.957\n",
            "2561.5151216983795\n",
            "2019-06-05 22:14:47.919434\n",
            "Est: 150 / Depth: 7 / LR: 0.1 ---- Precision: 0.943 / Recall: 0.841 / Accuracy: 0.974\n",
            "2703.4944241046906\n",
            "2019-06-05 22:17:09.898818\n",
            "Est: 150 / Depth: 7 / LR: 1 ---- Precision: 0.882 / Recall: 0.812 / Accuracy: 0.963\n",
            "2751.019764184952\n",
            "2019-06-05 22:17:57.424051\n",
            "Est: 150 / Depth: 11 / LR: 0.01 ---- Precision: 0.913 / Recall: 0.761 / Accuracy: 0.961\n",
            "3058.842792034149\n",
            "2019-06-05 22:23:05.247451\n",
            "Est: 150 / Depth: 11 / LR: 0.1 ---- Precision: 0.906 / Recall: 0.841 / Accuracy: 0.969\n",
            "3283.6786653995514\n",
            "2019-06-05 22:26:50.083351\n",
            "Est: 150 / Depth: 11 / LR: 1 ---- Precision: 0.884 / Recall: 0.826 / Accuracy: 0.965\n",
            "3322.5409202575684\n",
            "2019-06-05 22:27:28.945209\n",
            "Est: 150 / Depth: 15 / LR: 0.01 ---- Precision: 0.901 / Recall: 0.79 / Accuracy: 0.963\n",
            "3711.4143381118774\n",
            "2019-06-05 22:33:57.819020\n",
            "Est: 150 / Depth: 15 / LR: 0.1 ---- Precision: 0.907 / Recall: 0.848 / Accuracy: 0.97\n",
            "4019.8530189990997\n",
            "2019-06-05 22:39:06.257306\n",
            "Est: 150 / Depth: 15 / LR: 1 ---- Precision: 0.857 / Recall: 0.826 / Accuracy: 0.961\n",
            "4055.2881813049316\n",
            "2019-06-05 22:39:41.692820\n",
            "2019-06-05 22:39:41.693101\n"
          ],
          "name": "stdout"
        }
      ]
    },
    {
      "cell_type": "markdown",
      "metadata": {
        "id": "Impwa5cw2h6D",
        "colab_type": "text"
      },
      "source": [
        "### Evaluating Gradient Boosting with GridSearchCV"
      ]
    },
    {
      "cell_type": "code",
      "metadata": {
        "id": "xy4E1P312h6D",
        "colab_type": "code",
        "colab": {}
      },
      "source": [
        "#from sklearn.model_selection import GridSearchCV\n",
        "\n",
        "gb2 = GradientBoostingClassifier()\n",
        "param = {\n",
        "    'n_estimators': [100, 150], \n",
        "    'max_depth': [7, 11, 15],\n",
        "    'learning_rate': [0.1]\n",
        "}\n",
        "\n",
        "clf = GridSearchCV(gb2, param, cv=5, n_jobs=-1)"
      ],
      "execution_count": 0,
      "outputs": []
    },
    {
      "cell_type": "code",
      "metadata": {
        "id": "JsYwmCJ92h6F",
        "colab_type": "code",
        "outputId": "c4b089cf-5693-4ff3-dc73-8a0beeb7fa7e",
        "colab": {
          "base_uri": "https://localhost:8080/",
          "height": 88
        }
      },
      "source": [
        "start = time.time()\n",
        "print(datetime.datetime.now())\n",
        "\n",
        "cv_fit = clf.fit(X_features, data['label'])\n",
        "pd.DataFrame(cv_fit.cv_results_).sort_values('mean_test_score', ascending=False)[0:5]"
      ],
      "execution_count": 0,
      "outputs": [
        {
          "output_type": "stream",
          "text": [
            "2019-06-05 22:39:41.718817\n"
          ],
          "name": "stdout"
        },
        {
          "output_type": "stream",
          "text": [
            "/usr/local/lib/python3.6/dist-packages/joblib/externals/loky/process_executor.py:706: UserWarning: A worker stopped while some jobs were given to the executor. This can be caused by a too short worker timeout or by a memory leak.\n",
            "  \"timeout or by a memory leak.\", UserWarning\n"
          ],
          "name": "stderr"
        }
      ]
    },
    {
      "cell_type": "code",
      "metadata": {
        "id": "ZeVQSFPl2h6J",
        "colab_type": "code",
        "colab": {}
      },
      "source": [
        "end = time.time()\n",
        "fit_time = (end - start)\n",
        "print(fit_time)\n",
        "print(datetime.datetime.now())"
      ],
      "execution_count": 0,
      "outputs": []
    },
    {
      "cell_type": "code",
      "metadata": {
        "id": "zvCCIpt92h6L",
        "colab_type": "code",
        "colab": {}
      },
      "source": [
        "start = time.time()\n",
        "print(datetime.datetime.now())\n",
        "\n",
        "cv_fit = clf.fit(X_count_feat, data['label'])\n",
        "pd.DataFrame(cv_fit.cv_results_).sort_values('mean_test_score', ascending=False)[0:5]"
      ],
      "execution_count": 0,
      "outputs": []
    },
    {
      "cell_type": "code",
      "metadata": {
        "id": "ZmFqD62I2h6N",
        "colab_type": "code",
        "colab": {}
      },
      "source": [
        "end = time.time()\n",
        "fit_time = (end - start)\n",
        "print(fit_time)\n",
        "print(datetime.datetime.now())"
      ],
      "execution_count": 0,
      "outputs": []
    },
    {
      "cell_type": "code",
      "metadata": {
        "id": "A1TZFMohX7NF",
        "colab_type": "code",
        "colab": {}
      },
      "source": [
        ""
      ],
      "execution_count": 0,
      "outputs": []
    }
  ]
}