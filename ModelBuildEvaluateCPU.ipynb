{
 "cells": [
  {
   "cell_type": "markdown",
   "metadata": {},
   "source": [
    "# Building ML Classifiers: Basic Random Forest & Gradient Boosting models"
   ]
  },
  {
   "cell_type": "markdown",
   "metadata": {},
   "source": [
    "### Reading & cleaning text"
   ]
  },
  {
   "cell_type": "code",
   "execution_count": 2,
   "metadata": {},
   "outputs": [
    {
     "name": "stdout",
     "output_type": "stream",
     "text": [
      "Collecting nltk\n",
      "Requirement already satisfied: six in c:\\users\\abhi\\anaconda3\\envs\\keraspy35\\lib\\site-packages (from nltk) (1.11.0)\n",
      "Installing collected packages: nltk\n",
      "Successfully installed nltk-3.4.1\n"
     ]
    }
   ],
   "source": [
    "!pip install nltk"
   ]
  },
  {
   "cell_type": "code",
   "execution_count": 3,
   "metadata": {},
   "outputs": [
    {
     "name": "stderr",
     "output_type": "stream",
     "text": [
      "[nltk_data] Downloading package stopwords to\n",
      "[nltk_data]     C:\\Users\\Abhi\\AppData\\Roaming\\nltk_data...\n",
      "[nltk_data]   Package stopwords is already up-to-date!\n"
     ]
    },
    {
     "name": "stdout",
     "output_type": "stream",
     "text": [
      "   body_len  punct%    0    1    2    3    4    5    6    7  ...   8094  8095  \\\n",
      "0       128     4.7  0.0  0.0  0.0  0.0  0.0  0.0  0.0  0.0  ...    0.0   0.0   \n",
      "1        49     4.1  0.0  0.0  0.0  0.0  0.0  0.0  0.0  0.0  ...    0.0   0.0   \n",
      "2        62     3.2  0.0  0.0  0.0  0.0  0.0  0.0  0.0  0.0  ...    0.0   0.0   \n",
      "3        28     7.1  0.0  0.0  0.0  0.0  0.0  0.0  0.0  0.0  ...    0.0   0.0   \n",
      "4       135     4.4  0.0  0.0  0.0  0.0  0.0  0.0  0.0  0.0  ...    0.0   0.0   \n",
      "\n",
      "   8096  8097  8098  8099  8100  8101  8102  8103  \n",
      "0   0.0   0.0   0.0   0.0   0.0   0.0   0.0   0.0  \n",
      "1   0.0   0.0   0.0   0.0   0.0   0.0   0.0   0.0  \n",
      "2   0.0   0.0   0.0   0.0   0.0   0.0   0.0   0.0  \n",
      "3   0.0   0.0   0.0   0.0   0.0   0.0   0.0   0.0  \n",
      "4   0.0   0.0   0.0   0.0   0.0   0.0   0.0   0.0  \n",
      "\n",
      "[5 rows x 8106 columns]\n",
      "   body_len  punct%  0  1  2  3  4  5  6  7  ...   8094  8095  8096  8097  \\\n",
      "0       128     4.7  0  0  0  0  0  0  0  0  ...      0     0     0     0   \n",
      "1        49     4.1  0  0  0  0  0  0  0  0  ...      0     0     0     0   \n",
      "2        62     3.2  0  0  0  0  0  0  0  0  ...      0     0     0     0   \n",
      "3        28     7.1  0  0  0  0  0  0  0  0  ...      0     0     0     0   \n",
      "4       135     4.4  0  0  0  0  0  0  0  0  ...      0     0     0     0   \n",
      "\n",
      "   8098  8099  8100  8101  8102  8103  \n",
      "0     0     0     0     0     0     0  \n",
      "1     0     0     0     0     0     0  \n",
      "2     0     0     0     0     0     0  \n",
      "3     0     0     0     0     0     0  \n",
      "4     0     0     0     0     0     0  \n",
      "\n",
      "[5 rows x 8106 columns]\n"
     ]
    }
   ],
   "source": [
    "import nltk\n",
    "import pandas as pd\n",
    "import re\n",
    "from sklearn.feature_extraction.text import TfidfVectorizer, CountVectorizer\n",
    "import string\n",
    "import time\n",
    "import datetime\n",
    "nltk.download('stopwords')\n",
    "\n",
    "stopwords = nltk.corpus.stopwords.words('english')\n",
    "ps = nltk.PorterStemmer()\n",
    "\n",
    "data = pd.read_csv(\"SMSSpamCollection.tsv\", sep='\\t')\n",
    "data.columns = ['label', 'body_text']\n",
    "\n",
    "def count_punct(text):\n",
    "    count = sum([1 for char in text if char in string.punctuation]) # Counting puntuations\n",
    "    return round(count/(len(text) - text.count(\" \")), 3)*100  # Percentage of punctuations\n",
    "\n",
    "data['body_len'] = data['body_text'].apply(lambda x: len(x) - x.count(\" \"))\n",
    "data['punct%'] = data['body_text'].apply(lambda x: count_punct(x))\n",
    "\n",
    "def clean_text(text):\n",
    "    text = \"\".join([word.lower() for word in text if word not in string.punctuation]) # removing puntuations and creating list\n",
    "    tokens = re.split('\\W+', text) # removing multiple special characters --> '\\W+' ('\\W' -> single special character)\n",
    "    #tokens = re.findall('\\w+', text)  # alternative to above statement (Split -> '\\W+'; findall -> '\\w+')\n",
    "    text = [ps.stem(word) for word in tokens if word not in stopwords]  # stemmig the words\n",
    "    return text\n",
    "\n",
    "# TF-IDF\n",
    "tfidf_vect = TfidfVectorizer(analyzer=clean_text)\n",
    "X_tfidf = tfidf_vect.fit_transform(data['body_text'])\n",
    "X_features = pd.concat([data['body_len'], data['punct%'], pd.DataFrame(X_tfidf.toarray())], axis=1)\n",
    "print(X_features.head())\n",
    "\n",
    "# CountVectorizer\n",
    "count_vect = CountVectorizer(analyzer=clean_text)\n",
    "X_count = count_vect.fit_transform(data['body_text'])\n",
    "X_count_feat = pd.concat([data['body_len'], data['punct%'], pd.DataFrame(X_count.toarray())], axis=1)\n",
    "print(X_count_feat.head())"
   ]
  },
  {
   "cell_type": "markdown",
   "metadata": {},
   "source": [
    "### Exploring RandomForestClassifier Attributes & Hyperparameters"
   ]
  },
  {
   "cell_type": "code",
   "execution_count": 4,
   "metadata": {},
   "outputs": [],
   "source": [
    "from sklearn.ensemble import RandomForestClassifier"
   ]
  },
  {
   "cell_type": "code",
   "execution_count": 5,
   "metadata": {},
   "outputs": [
    {
     "name": "stdout",
     "output_type": "stream",
     "text": [
      "['__abstractmethods__', '__class__', '__delattr__', '__dict__', '__dir__', '__doc__', '__eq__', '__format__', '__ge__', '__getattribute__', '__getitem__', '__getstate__', '__gt__', '__hash__', '__init__', '__iter__', '__le__', '__len__', '__lt__', '__module__', '__ne__', '__new__', '__reduce__', '__reduce_ex__', '__repr__', '__setattr__', '__setstate__', '__sizeof__', '__str__', '__subclasshook__', '__weakref__', '_abc_cache', '_abc_negative_cache', '_abc_negative_cache_version', '_abc_registry', '_estimator_type', '_get_param_names', '_make_estimator', '_set_oob_score', '_validate_X_predict', '_validate_estimator', '_validate_y_class_weight', 'apply', 'decision_path', 'feature_importances_', 'fit', 'get_params', 'predict', 'predict_log_proba', 'predict_proba', 'score', 'set_params']\n",
      "RandomForestClassifier(bootstrap=True, class_weight=None, criterion='gini',\n",
      "            max_depth=None, max_features='auto', max_leaf_nodes=None,\n",
      "            min_impurity_decrease=0.0, min_impurity_split=None,\n",
      "            min_samples_leaf=1, min_samples_split=2,\n",
      "            min_weight_fraction_leaf=0.0, n_estimators='warn', n_jobs=None,\n",
      "            oob_score=False, random_state=None, verbose=0,\n",
      "            warm_start=False)\n"
     ]
    }
   ],
   "source": [
    "print(dir(RandomForestClassifier))\n",
    "print(RandomForestClassifier())"
   ]
  },
  {
   "cell_type": "markdown",
   "metadata": {},
   "source": [
    "### Exploing RandomForestClassifier through Cross-Validation"
   ]
  },
  {
   "cell_type": "code",
   "execution_count": 6,
   "metadata": {},
   "outputs": [],
   "source": [
    "from sklearn.model_selection import KFold, cross_val_score"
   ]
  },
  {
   "cell_type": "code",
   "execution_count": 7,
   "metadata": {},
   "outputs": [
    {
     "data": {
      "text/plain": [
       "array([0.97217235, 0.97307002, 0.97663971, 0.95956873, 0.97214735])"
      ]
     },
     "execution_count": 7,
     "metadata": {},
     "output_type": "execute_result"
    }
   ],
   "source": [
    "rf_kfold = RandomForestClassifier(n_jobs=-1)\n",
    "k_fold = KFold(n_splits=5)\n",
    "cross_val_score(rf_kfold, X_features, data['label'], cv=k_fold, scoring='accuracy', n_jobs=-1)"
   ]
  },
  {
   "cell_type": "markdown",
   "metadata": {},
   "source": [
    "### Exploring RandomForestClassifier through holdout set"
   ]
  },
  {
   "cell_type": "code",
   "execution_count": 8,
   "metadata": {},
   "outputs": [],
   "source": [
    "from sklearn.metrics import precision_recall_fscore_support as score\n",
    "from sklearn.model_selection import train_test_split"
   ]
  },
  {
   "cell_type": "code",
   "execution_count": 9,
   "metadata": {},
   "outputs": [],
   "source": [
    "X_train, X_test, y_train, y_test = train_test_split(X_features, data['label'], test_size=0.2)"
   ]
  },
  {
   "cell_type": "code",
   "execution_count": 10,
   "metadata": {},
   "outputs": [],
   "source": [
    "rf = RandomForestClassifier(n_estimators=50, max_depth=20, n_jobs=-1)\n",
    "rf_model = rf.fit(X_train, y_train)"
   ]
  },
  {
   "cell_type": "code",
   "execution_count": 11,
   "metadata": {},
   "outputs": [
    {
     "data": {
      "text/plain": [
       "[(0.062158536016664455, 'body_len'),\n",
       " (0.03854472061430645, 3134),\n",
       " (0.035184024523319216, 1803),\n",
       " (0.029904407097169385, 4796),\n",
       " (0.023729538462981245, 2031),\n",
       " (0.020217739084740817, 7027),\n",
       " (0.01976561116667663, 7782),\n",
       " (0.018392724185500767, 7350),\n",
       " (0.01771394250538538, 5724),\n",
       " (0.015568827463156257, 7461)]"
      ]
     },
     "execution_count": 11,
     "metadata": {},
     "output_type": "execute_result"
    }
   ],
   "source": [
    "sorted(zip(rf_model.feature_importances_, X_train.columns), reverse=True)[0:10]"
   ]
  },
  {
   "cell_type": "code",
   "execution_count": 12,
   "metadata": {},
   "outputs": [],
   "source": [
    "y_pred = rf_model.predict(X_test)\n",
    "precision, recall, fscore, support = score(y_test, y_pred, pos_label='spam', average='binary')"
   ]
  },
  {
   "cell_type": "code",
   "execution_count": 13,
   "metadata": {},
   "outputs": [
    {
     "name": "stdout",
     "output_type": "stream",
     "text": [
      "Precision: 1.0 / Recall: 0.614 / Accuracy: 0.95\n"
     ]
    }
   ],
   "source": [
    "print('Precision: {} / Recall: {} / Accuracy: {}'.format(round(precision, 3),\n",
    "                                                        round(recall, 3),\n",
    "                                                        round((y_pred==y_test).sum() / len(y_pred),3)))"
   ]
  },
  {
   "cell_type": "markdown",
   "metadata": {},
   "source": [
    "### Building a Grid Search"
   ]
  },
  {
   "cell_type": "code",
   "execution_count": 14,
   "metadata": {},
   "outputs": [],
   "source": [
    "def train_RF(n_est, depth):\n",
    "    rf1 = RandomForestClassifier(n_estimators=n_est, max_depth=depth, n_jobs=-1)\n",
    "    rf_model1 = rf.fit(X_train, y_train)\n",
    "    y_pred1 = rf_model.predict(X_test)\n",
    "    precision1, recall1, fscore1, support1 = score(y_test, y_pred1, pos_label='spam', average='binary')\n",
    "    print('Est: {} / Depth: {} ---- Precision: {} / Recall: {} / Accuracy: {}'.format(\n",
    "        n_est, depth, round(precision1, 3), round(recall1, 3),\n",
    "        round((y_pred1==y_test).sum() / len(y_pred1), 3)))"
   ]
  },
  {
   "cell_type": "code",
   "execution_count": 15,
   "metadata": {},
   "outputs": [
    {
     "name": "stdout",
     "output_type": "stream",
     "text": [
      "2019-06-05 20:24:26.606243\n",
      "Est: 10 / Depth: 10 ---- Precision: 1.0 / Recall: 0.628 / Accuracy: 0.952\n",
      "Est: 10 / Depth: 20 ---- Precision: 1.0 / Recall: 0.634 / Accuracy: 0.952\n",
      "Est: 10 / Depth: 30 ---- Precision: 1.0 / Recall: 0.641 / Accuracy: 0.953\n",
      "Est: 10 / Depth: None ---- Precision: 0.989 / Recall: 0.621 / Accuracy: 0.95\n",
      "Est: 50 / Depth: 10 ---- Precision: 1.0 / Recall: 0.634 / Accuracy: 0.952\n",
      "Est: 50 / Depth: 20 ---- Precision: 1.0 / Recall: 0.607 / Accuracy: 0.949\n",
      "Est: 50 / Depth: 30 ---- Precision: 1.0 / Recall: 0.572 / Accuracy: 0.944\n",
      "Est: 50 / Depth: None ---- Precision: 1.0 / Recall: 0.634 / Accuracy: 0.952\n",
      "Est: 100 / Depth: 10 ---- Precision: 1.0 / Recall: 0.641 / Accuracy: 0.953\n",
      "Est: 100 / Depth: 20 ---- Precision: 1.0 / Recall: 0.559 / Accuracy: 0.943\n",
      "Est: 100 / Depth: 30 ---- Precision: 1.0 / Recall: 0.628 / Accuracy: 0.952\n",
      "Est: 100 / Depth: None ---- Precision: 1.0 / Recall: 0.593 / Accuracy: 0.947\n",
      "2019-06-05 20:24:52.062290\n"
     ]
    }
   ],
   "source": [
    "print(datetime.datetime.now())\n",
    "\n",
    "for n_est in [10, 50, 100]:\n",
    "    for depth in [10, 20, 30, None]:\n",
    "        train_RF(n_est, depth)\n",
    "\n",
    "print(datetime.datetime.now())"
   ]
  },
  {
   "cell_type": "markdown",
   "metadata": {},
   "source": [
    "### Evaluating Random forest with GridSearchCV"
   ]
  },
  {
   "cell_type": "code",
   "execution_count": 16,
   "metadata": {},
   "outputs": [],
   "source": [
    "import warnings\n",
    "warnings.filterwarnings(\"ignore\", category=DeprecationWarning)\n",
    "import time"
   ]
  },
  {
   "cell_type": "code",
   "execution_count": 17,
   "metadata": {},
   "outputs": [],
   "source": [
    "from sklearn.model_selection import GridSearchCV"
   ]
  },
  {
   "cell_type": "code",
   "execution_count": 18,
   "metadata": {},
   "outputs": [],
   "source": [
    "rf2 = RandomForestClassifier()\n",
    "param = {'n_estimators': [10, 150, 300],\n",
    "        'max_depth': [30, 60, 90, None]}\n",
    "\n",
    "gs = GridSearchCV(rf2, param, cv=5, n_jobs=-1)"
   ]
  },
  {
   "cell_type": "code",
   "execution_count": 19,
   "metadata": {},
   "outputs": [
    {
     "name": "stdout",
     "output_type": "stream",
     "text": [
      "2019-06-05 20:25:07.089388\n"
     ]
    },
    {
     "name": "stderr",
     "output_type": "stream",
     "text": [
      "C:\\Users\\Abhi\\Anaconda3\\envs\\keraspy35\\lib\\site-packages\\sklearn\\utils\\deprecation.py:125: FutureWarning: You are accessing a training score ('mean_train_score'), which will not be available by default any more in 0.21. If you need training scores, please set return_train_score=True\n",
      "  warnings.warn(*warn_args, **warn_kwargs)\n",
      "C:\\Users\\Abhi\\Anaconda3\\envs\\keraspy35\\lib\\site-packages\\sklearn\\utils\\deprecation.py:125: FutureWarning: You are accessing a training score ('split0_train_score'), which will not be available by default any more in 0.21. If you need training scores, please set return_train_score=True\n",
      "  warnings.warn(*warn_args, **warn_kwargs)\n",
      "C:\\Users\\Abhi\\Anaconda3\\envs\\keraspy35\\lib\\site-packages\\sklearn\\utils\\deprecation.py:125: FutureWarning: You are accessing a training score ('split1_train_score'), which will not be available by default any more in 0.21. If you need training scores, please set return_train_score=True\n",
      "  warnings.warn(*warn_args, **warn_kwargs)\n",
      "C:\\Users\\Abhi\\Anaconda3\\envs\\keraspy35\\lib\\site-packages\\sklearn\\utils\\deprecation.py:125: FutureWarning: You are accessing a training score ('split2_train_score'), which will not be available by default any more in 0.21. If you need training scores, please set return_train_score=True\n",
      "  warnings.warn(*warn_args, **warn_kwargs)\n",
      "C:\\Users\\Abhi\\Anaconda3\\envs\\keraspy35\\lib\\site-packages\\sklearn\\utils\\deprecation.py:125: FutureWarning: You are accessing a training score ('split3_train_score'), which will not be available by default any more in 0.21. If you need training scores, please set return_train_score=True\n",
      "  warnings.warn(*warn_args, **warn_kwargs)\n",
      "C:\\Users\\Abhi\\Anaconda3\\envs\\keraspy35\\lib\\site-packages\\sklearn\\utils\\deprecation.py:125: FutureWarning: You are accessing a training score ('split4_train_score'), which will not be available by default any more in 0.21. If you need training scores, please set return_train_score=True\n",
      "  warnings.warn(*warn_args, **warn_kwargs)\n",
      "C:\\Users\\Abhi\\Anaconda3\\envs\\keraspy35\\lib\\site-packages\\sklearn\\utils\\deprecation.py:125: FutureWarning: You are accessing a training score ('std_train_score'), which will not be available by default any more in 0.21. If you need training scores, please set return_train_score=True\n",
      "  warnings.warn(*warn_args, **warn_kwargs)\n"
     ]
    },
    {
     "data": {
      "text/html": [
       "<div>\n",
       "<style scoped>\n",
       "    .dataframe tbody tr th:only-of-type {\n",
       "        vertical-align: middle;\n",
       "    }\n",
       "\n",
       "    .dataframe tbody tr th {\n",
       "        vertical-align: top;\n",
       "    }\n",
       "\n",
       "    .dataframe thead th {\n",
       "        text-align: right;\n",
       "    }\n",
       "</style>\n",
       "<table border=\"1\" class=\"dataframe\">\n",
       "  <thead>\n",
       "    <tr style=\"text-align: right;\">\n",
       "      <th></th>\n",
       "      <th>mean_fit_time</th>\n",
       "      <th>mean_score_time</th>\n",
       "      <th>mean_test_score</th>\n",
       "      <th>mean_train_score</th>\n",
       "      <th>param_max_depth</th>\n",
       "      <th>param_n_estimators</th>\n",
       "      <th>params</th>\n",
       "      <th>rank_test_score</th>\n",
       "      <th>split0_test_score</th>\n",
       "      <th>split0_train_score</th>\n",
       "      <th>...</th>\n",
       "      <th>split2_test_score</th>\n",
       "      <th>split2_train_score</th>\n",
       "      <th>split3_test_score</th>\n",
       "      <th>split3_train_score</th>\n",
       "      <th>split4_test_score</th>\n",
       "      <th>split4_train_score</th>\n",
       "      <th>std_fit_time</th>\n",
       "      <th>std_score_time</th>\n",
       "      <th>std_test_score</th>\n",
       "      <th>std_train_score</th>\n",
       "    </tr>\n",
       "  </thead>\n",
       "  <tbody>\n",
       "    <tr>\n",
       "      <th>7</th>\n",
       "      <td>25.937066</td>\n",
       "      <td>0.896778</td>\n",
       "      <td>0.973774</td>\n",
       "      <td>0.999147</td>\n",
       "      <td>90</td>\n",
       "      <td>150</td>\n",
       "      <td>{'max_depth': 90, 'n_estimators': 150}</td>\n",
       "      <td>1</td>\n",
       "      <td>0.977578</td>\n",
       "      <td>0.999102</td>\n",
       "      <td>...</td>\n",
       "      <td>0.975741</td>\n",
       "      <td>0.998877</td>\n",
       "      <td>0.968553</td>\n",
       "      <td>0.999551</td>\n",
       "      <td>0.970350</td>\n",
       "      <td>0.999326</td>\n",
       "      <td>0.764614</td>\n",
       "      <td>0.098553</td>\n",
       "      <td>0.003620</td>\n",
       "      <td>0.000262</td>\n",
       "    </tr>\n",
       "    <tr>\n",
       "      <th>8</th>\n",
       "      <td>45.672739</td>\n",
       "      <td>1.313022</td>\n",
       "      <td>0.973235</td>\n",
       "      <td>0.999281</td>\n",
       "      <td>90</td>\n",
       "      <td>300</td>\n",
       "      <td>{'max_depth': 90, 'n_estimators': 300}</td>\n",
       "      <td>2</td>\n",
       "      <td>0.976682</td>\n",
       "      <td>0.999326</td>\n",
       "      <td>...</td>\n",
       "      <td>0.974843</td>\n",
       "      <td>0.999102</td>\n",
       "      <td>0.968553</td>\n",
       "      <td>0.999326</td>\n",
       "      <td>0.970350</td>\n",
       "      <td>0.999102</td>\n",
       "      <td>3.700805</td>\n",
       "      <td>0.254756</td>\n",
       "      <td>0.003193</td>\n",
       "      <td>0.000168</td>\n",
       "    </tr>\n",
       "    <tr>\n",
       "      <th>11</th>\n",
       "      <td>47.526498</td>\n",
       "      <td>1.300575</td>\n",
       "      <td>0.972876</td>\n",
       "      <td>1.000000</td>\n",
       "      <td>None</td>\n",
       "      <td>300</td>\n",
       "      <td>{'max_depth': None, 'n_estimators': 300}</td>\n",
       "      <td>3</td>\n",
       "      <td>0.975785</td>\n",
       "      <td>1.000000</td>\n",
       "      <td>...</td>\n",
       "      <td>0.974843</td>\n",
       "      <td>1.000000</td>\n",
       "      <td>0.968553</td>\n",
       "      <td>1.000000</td>\n",
       "      <td>0.968553</td>\n",
       "      <td>1.000000</td>\n",
       "      <td>10.577987</td>\n",
       "      <td>0.440035</td>\n",
       "      <td>0.003574</td>\n",
       "      <td>0.000000</td>\n",
       "    </tr>\n",
       "    <tr>\n",
       "      <th>5</th>\n",
       "      <td>39.057075</td>\n",
       "      <td>1.317984</td>\n",
       "      <td>0.972696</td>\n",
       "      <td>0.993803</td>\n",
       "      <td>60</td>\n",
       "      <td>300</td>\n",
       "      <td>{'max_depth': 60, 'n_estimators': 300}</td>\n",
       "      <td>4</td>\n",
       "      <td>0.977578</td>\n",
       "      <td>0.994160</td>\n",
       "      <td>...</td>\n",
       "      <td>0.972147</td>\n",
       "      <td>0.994387</td>\n",
       "      <td>0.967655</td>\n",
       "      <td>0.993714</td>\n",
       "      <td>0.971249</td>\n",
       "      <td>0.993714</td>\n",
       "      <td>3.718399</td>\n",
       "      <td>0.220955</td>\n",
       "      <td>0.003355</td>\n",
       "      <td>0.000462</td>\n",
       "    </tr>\n",
       "    <tr>\n",
       "      <th>6</th>\n",
       "      <td>7.132938</td>\n",
       "      <td>0.611846</td>\n",
       "      <td>0.972517</td>\n",
       "      <td>0.998069</td>\n",
       "      <td>90</td>\n",
       "      <td>10</td>\n",
       "      <td>{'max_depth': 90, 'n_estimators': 10}</td>\n",
       "      <td>5</td>\n",
       "      <td>0.973991</td>\n",
       "      <td>0.997080</td>\n",
       "      <td>...</td>\n",
       "      <td>0.974843</td>\n",
       "      <td>0.999102</td>\n",
       "      <td>0.962264</td>\n",
       "      <td>0.998877</td>\n",
       "      <td>0.973046</td>\n",
       "      <td>0.997530</td>\n",
       "      <td>0.401668</td>\n",
       "      <td>0.080657</td>\n",
       "      <td>0.005440</td>\n",
       "      <td>0.000786</td>\n",
       "    </tr>\n",
       "  </tbody>\n",
       "</table>\n",
       "<p>5 rows × 22 columns</p>\n",
       "</div>"
      ],
      "text/plain": [
       "    mean_fit_time  mean_score_time  mean_test_score  mean_train_score  \\\n",
       "7       25.937066         0.896778         0.973774          0.999147   \n",
       "8       45.672739         1.313022         0.973235          0.999281   \n",
       "11      47.526498         1.300575         0.972876          1.000000   \n",
       "5       39.057075         1.317984         0.972696          0.993803   \n",
       "6        7.132938         0.611846         0.972517          0.998069   \n",
       "\n",
       "   param_max_depth param_n_estimators  \\\n",
       "7               90                150   \n",
       "8               90                300   \n",
       "11            None                300   \n",
       "5               60                300   \n",
       "6               90                 10   \n",
       "\n",
       "                                      params  rank_test_score  \\\n",
       "7     {'max_depth': 90, 'n_estimators': 150}                1   \n",
       "8     {'max_depth': 90, 'n_estimators': 300}                2   \n",
       "11  {'max_depth': None, 'n_estimators': 300}                3   \n",
       "5     {'max_depth': 60, 'n_estimators': 300}                4   \n",
       "6      {'max_depth': 90, 'n_estimators': 10}                5   \n",
       "\n",
       "    split0_test_score  split0_train_score       ...         split2_test_score  \\\n",
       "7            0.977578            0.999102       ...                  0.975741   \n",
       "8            0.976682            0.999326       ...                  0.974843   \n",
       "11           0.975785            1.000000       ...                  0.974843   \n",
       "5            0.977578            0.994160       ...                  0.972147   \n",
       "6            0.973991            0.997080       ...                  0.974843   \n",
       "\n",
       "    split2_train_score  split3_test_score  split3_train_score  \\\n",
       "7             0.998877           0.968553            0.999551   \n",
       "8             0.999102           0.968553            0.999326   \n",
       "11            1.000000           0.968553            1.000000   \n",
       "5             0.994387           0.967655            0.993714   \n",
       "6             0.999102           0.962264            0.998877   \n",
       "\n",
       "    split4_test_score  split4_train_score  std_fit_time  std_score_time  \\\n",
       "7            0.970350            0.999326      0.764614        0.098553   \n",
       "8            0.970350            0.999102      3.700805        0.254756   \n",
       "11           0.968553            1.000000     10.577987        0.440035   \n",
       "5            0.971249            0.993714      3.718399        0.220955   \n",
       "6            0.973046            0.997530      0.401668        0.080657   \n",
       "\n",
       "    std_test_score  std_train_score  \n",
       "7         0.003620         0.000262  \n",
       "8         0.003193         0.000168  \n",
       "11        0.003574         0.000000  \n",
       "5         0.003355         0.000462  \n",
       "6         0.005440         0.000786  \n",
       "\n",
       "[5 rows x 22 columns]"
      ]
     },
     "execution_count": 19,
     "metadata": {},
     "output_type": "execute_result"
    }
   ],
   "source": [
    "start = time.time()\n",
    "print(datetime.datetime.now())\n",
    "\n",
    "gs_fit1 = gs.fit(X_features, data['label'])\n",
    "pd.DataFrame(gs_fit1.cv_results_).sort_values('mean_test_score', ascending=False)[0:5]"
   ]
  },
  {
   "cell_type": "code",
   "execution_count": 20,
   "metadata": {},
   "outputs": [
    {
     "name": "stdout",
     "output_type": "stream",
     "text": [
      "501.91995429992676\n",
      "2019-06-05 20:33:29.009343\n"
     ]
    }
   ],
   "source": [
    "end = time.time()\n",
    "fit_time = (end - start)\n",
    "print(fit_time)\n",
    "print(datetime.datetime.now())"
   ]
  },
  {
   "cell_type": "code",
   "execution_count": 21,
   "metadata": {},
   "outputs": [
    {
     "name": "stdout",
     "output_type": "stream",
     "text": [
      "2019-06-05 20:33:29.241303\n"
     ]
    },
    {
     "name": "stderr",
     "output_type": "stream",
     "text": [
      "C:\\Users\\Abhi\\Anaconda3\\envs\\keraspy35\\lib\\site-packages\\sklearn\\utils\\deprecation.py:125: FutureWarning: You are accessing a training score ('mean_train_score'), which will not be available by default any more in 0.21. If you need training scores, please set return_train_score=True\n",
      "  warnings.warn(*warn_args, **warn_kwargs)\n",
      "C:\\Users\\Abhi\\Anaconda3\\envs\\keraspy35\\lib\\site-packages\\sklearn\\utils\\deprecation.py:125: FutureWarning: You are accessing a training score ('split0_train_score'), which will not be available by default any more in 0.21. If you need training scores, please set return_train_score=True\n",
      "  warnings.warn(*warn_args, **warn_kwargs)\n",
      "C:\\Users\\Abhi\\Anaconda3\\envs\\keraspy35\\lib\\site-packages\\sklearn\\utils\\deprecation.py:125: FutureWarning: You are accessing a training score ('split1_train_score'), which will not be available by default any more in 0.21. If you need training scores, please set return_train_score=True\n",
      "  warnings.warn(*warn_args, **warn_kwargs)\n",
      "C:\\Users\\Abhi\\Anaconda3\\envs\\keraspy35\\lib\\site-packages\\sklearn\\utils\\deprecation.py:125: FutureWarning: You are accessing a training score ('split2_train_score'), which will not be available by default any more in 0.21. If you need training scores, please set return_train_score=True\n",
      "  warnings.warn(*warn_args, **warn_kwargs)\n",
      "C:\\Users\\Abhi\\Anaconda3\\envs\\keraspy35\\lib\\site-packages\\sklearn\\utils\\deprecation.py:125: FutureWarning: You are accessing a training score ('split3_train_score'), which will not be available by default any more in 0.21. If you need training scores, please set return_train_score=True\n",
      "  warnings.warn(*warn_args, **warn_kwargs)\n",
      "C:\\Users\\Abhi\\Anaconda3\\envs\\keraspy35\\lib\\site-packages\\sklearn\\utils\\deprecation.py:125: FutureWarning: You are accessing a training score ('split4_train_score'), which will not be available by default any more in 0.21. If you need training scores, please set return_train_score=True\n",
      "  warnings.warn(*warn_args, **warn_kwargs)\n",
      "C:\\Users\\Abhi\\Anaconda3\\envs\\keraspy35\\lib\\site-packages\\sklearn\\utils\\deprecation.py:125: FutureWarning: You are accessing a training score ('std_train_score'), which will not be available by default any more in 0.21. If you need training scores, please set return_train_score=True\n",
      "  warnings.warn(*warn_args, **warn_kwargs)\n"
     ]
    },
    {
     "data": {
      "text/html": [
       "<div>\n",
       "<style scoped>\n",
       "    .dataframe tbody tr th:only-of-type {\n",
       "        vertical-align: middle;\n",
       "    }\n",
       "\n",
       "    .dataframe tbody tr th {\n",
       "        vertical-align: top;\n",
       "    }\n",
       "\n",
       "    .dataframe thead th {\n",
       "        text-align: right;\n",
       "    }\n",
       "</style>\n",
       "<table border=\"1\" class=\"dataframe\">\n",
       "  <thead>\n",
       "    <tr style=\"text-align: right;\">\n",
       "      <th></th>\n",
       "      <th>mean_fit_time</th>\n",
       "      <th>mean_score_time</th>\n",
       "      <th>mean_test_score</th>\n",
       "      <th>mean_train_score</th>\n",
       "      <th>param_max_depth</th>\n",
       "      <th>param_n_estimators</th>\n",
       "      <th>params</th>\n",
       "      <th>rank_test_score</th>\n",
       "      <th>split0_test_score</th>\n",
       "      <th>split0_train_score</th>\n",
       "      <th>...</th>\n",
       "      <th>split2_test_score</th>\n",
       "      <th>split2_train_score</th>\n",
       "      <th>split3_test_score</th>\n",
       "      <th>split3_train_score</th>\n",
       "      <th>split4_test_score</th>\n",
       "      <th>split4_train_score</th>\n",
       "      <th>std_fit_time</th>\n",
       "      <th>std_score_time</th>\n",
       "      <th>std_test_score</th>\n",
       "      <th>std_train_score</th>\n",
       "    </tr>\n",
       "  </thead>\n",
       "  <tbody>\n",
       "    <tr>\n",
       "      <th>11</th>\n",
       "      <td>53.319258</td>\n",
       "      <td>1.073186</td>\n",
       "      <td>0.972876</td>\n",
       "      <td>1.000000</td>\n",
       "      <td>None</td>\n",
       "      <td>300</td>\n",
       "      <td>{'max_depth': None, 'n_estimators': 300}</td>\n",
       "      <td>1</td>\n",
       "      <td>0.978475</td>\n",
       "      <td>1.000000</td>\n",
       "      <td>...</td>\n",
       "      <td>0.973944</td>\n",
       "      <td>1.000000</td>\n",
       "      <td>0.966757</td>\n",
       "      <td>1.000000</td>\n",
       "      <td>0.969452</td>\n",
       "      <td>1.000000</td>\n",
       "      <td>11.005901</td>\n",
       "      <td>0.613986</td>\n",
       "      <td>0.004240</td>\n",
       "      <td>0.000000</td>\n",
       "    </tr>\n",
       "    <tr>\n",
       "      <th>8</th>\n",
       "      <td>61.110837</td>\n",
       "      <td>1.649299</td>\n",
       "      <td>0.972696</td>\n",
       "      <td>0.998832</td>\n",
       "      <td>90</td>\n",
       "      <td>300</td>\n",
       "      <td>{'max_depth': 90, 'n_estimators': 300}</td>\n",
       "      <td>2</td>\n",
       "      <td>0.975785</td>\n",
       "      <td>0.998652</td>\n",
       "      <td>...</td>\n",
       "      <td>0.974843</td>\n",
       "      <td>0.999102</td>\n",
       "      <td>0.967655</td>\n",
       "      <td>0.999102</td>\n",
       "      <td>0.971249</td>\n",
       "      <td>0.999102</td>\n",
       "      <td>8.012952</td>\n",
       "      <td>0.285704</td>\n",
       "      <td>0.002940</td>\n",
       "      <td>0.000359</td>\n",
       "    </tr>\n",
       "    <tr>\n",
       "      <th>7</th>\n",
       "      <td>28.299591</td>\n",
       "      <td>0.921705</td>\n",
       "      <td>0.972517</td>\n",
       "      <td>0.998788</td>\n",
       "      <td>90</td>\n",
       "      <td>150</td>\n",
       "      <td>{'max_depth': 90, 'n_estimators': 150}</td>\n",
       "      <td>3</td>\n",
       "      <td>0.978475</td>\n",
       "      <td>0.998877</td>\n",
       "      <td>...</td>\n",
       "      <td>0.973046</td>\n",
       "      <td>0.999326</td>\n",
       "      <td>0.966757</td>\n",
       "      <td>0.998877</td>\n",
       "      <td>0.970350</td>\n",
       "      <td>0.998204</td>\n",
       "      <td>4.562098</td>\n",
       "      <td>0.466256</td>\n",
       "      <td>0.003892</td>\n",
       "      <td>0.000365</td>\n",
       "    </tr>\n",
       "    <tr>\n",
       "      <th>4</th>\n",
       "      <td>27.575573</td>\n",
       "      <td>0.763009</td>\n",
       "      <td>0.971798</td>\n",
       "      <td>0.992815</td>\n",
       "      <td>60</td>\n",
       "      <td>150</td>\n",
       "      <td>{'max_depth': 60, 'n_estimators': 150}</td>\n",
       "      <td>4</td>\n",
       "      <td>0.978475</td>\n",
       "      <td>0.993711</td>\n",
       "      <td>...</td>\n",
       "      <td>0.972147</td>\n",
       "      <td>0.993714</td>\n",
       "      <td>0.968553</td>\n",
       "      <td>0.992591</td>\n",
       "      <td>0.968553</td>\n",
       "      <td>0.992142</td>\n",
       "      <td>2.837904</td>\n",
       "      <td>0.074617</td>\n",
       "      <td>0.003637</td>\n",
       "      <td>0.000764</td>\n",
       "    </tr>\n",
       "    <tr>\n",
       "      <th>10</th>\n",
       "      <td>30.378347</td>\n",
       "      <td>0.988435</td>\n",
       "      <td>0.970900</td>\n",
       "      <td>1.000000</td>\n",
       "      <td>None</td>\n",
       "      <td>150</td>\n",
       "      <td>{'max_depth': None, 'n_estimators': 150}</td>\n",
       "      <td>5</td>\n",
       "      <td>0.976682</td>\n",
       "      <td>1.000000</td>\n",
       "      <td>...</td>\n",
       "      <td>0.973046</td>\n",
       "      <td>1.000000</td>\n",
       "      <td>0.965858</td>\n",
       "      <td>1.000000</td>\n",
       "      <td>0.967655</td>\n",
       "      <td>1.000000</td>\n",
       "      <td>1.472709</td>\n",
       "      <td>0.221866</td>\n",
       "      <td>0.003851</td>\n",
       "      <td>0.000000</td>\n",
       "    </tr>\n",
       "  </tbody>\n",
       "</table>\n",
       "<p>5 rows × 22 columns</p>\n",
       "</div>"
      ],
      "text/plain": [
       "    mean_fit_time  mean_score_time  mean_test_score  mean_train_score  \\\n",
       "11      53.319258         1.073186         0.972876          1.000000   \n",
       "8       61.110837         1.649299         0.972696          0.998832   \n",
       "7       28.299591         0.921705         0.972517          0.998788   \n",
       "4       27.575573         0.763009         0.971798          0.992815   \n",
       "10      30.378347         0.988435         0.970900          1.000000   \n",
       "\n",
       "   param_max_depth param_n_estimators  \\\n",
       "11            None                300   \n",
       "8               90                300   \n",
       "7               90                150   \n",
       "4               60                150   \n",
       "10            None                150   \n",
       "\n",
       "                                      params  rank_test_score  \\\n",
       "11  {'max_depth': None, 'n_estimators': 300}                1   \n",
       "8     {'max_depth': 90, 'n_estimators': 300}                2   \n",
       "7     {'max_depth': 90, 'n_estimators': 150}                3   \n",
       "4     {'max_depth': 60, 'n_estimators': 150}                4   \n",
       "10  {'max_depth': None, 'n_estimators': 150}                5   \n",
       "\n",
       "    split0_test_score  split0_train_score       ...         split2_test_score  \\\n",
       "11           0.978475            1.000000       ...                  0.973944   \n",
       "8            0.975785            0.998652       ...                  0.974843   \n",
       "7            0.978475            0.998877       ...                  0.973046   \n",
       "4            0.978475            0.993711       ...                  0.972147   \n",
       "10           0.976682            1.000000       ...                  0.973046   \n",
       "\n",
       "    split2_train_score  split3_test_score  split3_train_score  \\\n",
       "11            1.000000           0.966757            1.000000   \n",
       "8             0.999102           0.967655            0.999102   \n",
       "7             0.999326           0.966757            0.998877   \n",
       "4             0.993714           0.968553            0.992591   \n",
       "10            1.000000           0.965858            1.000000   \n",
       "\n",
       "    split4_test_score  split4_train_score  std_fit_time  std_score_time  \\\n",
       "11           0.969452            1.000000     11.005901        0.613986   \n",
       "8            0.971249            0.999102      8.012952        0.285704   \n",
       "7            0.970350            0.998204      4.562098        0.466256   \n",
       "4            0.968553            0.992142      2.837904        0.074617   \n",
       "10           0.967655            1.000000      1.472709        0.221866   \n",
       "\n",
       "    std_test_score  std_train_score  \n",
       "11        0.004240         0.000000  \n",
       "8         0.002940         0.000359  \n",
       "7         0.003892         0.000365  \n",
       "4         0.003637         0.000764  \n",
       "10        0.003851         0.000000  \n",
       "\n",
       "[5 rows x 22 columns]"
      ]
     },
     "execution_count": 21,
     "metadata": {},
     "output_type": "execute_result"
    }
   ],
   "source": [
    "start = time.time()\n",
    "print(datetime.datetime.now())\n",
    "\n",
    "gs_fit2 = gs.fit(X_count_feat, data['label'])\n",
    "pd.DataFrame(gs_fit2.cv_results_).sort_values('mean_test_score', ascending=False)[0:5]"
   ]
  },
  {
   "cell_type": "code",
   "execution_count": 22,
   "metadata": {},
   "outputs": [
    {
     "name": "stdout",
     "output_type": "stream",
     "text": [
      "593.799578666687\n",
      "2019-06-05 20:43:23.041881\n"
     ]
    }
   ],
   "source": [
    "end = time.time()\n",
    "fit_time = (end - start)\n",
    "print(fit_time)\n",
    "print(datetime.datetime.now())"
   ]
  },
  {
   "cell_type": "markdown",
   "metadata": {},
   "source": [
    "### Exploring GradientBoostingClassifier Attributes & Hyperparameters"
   ]
  },
  {
   "cell_type": "code",
   "execution_count": 23,
   "metadata": {},
   "outputs": [],
   "source": [
    "from sklearn.ensemble import GradientBoostingClassifier"
   ]
  },
  {
   "cell_type": "code",
   "execution_count": 24,
   "metadata": {},
   "outputs": [
    {
     "name": "stdout",
     "output_type": "stream",
     "text": [
      "['_SUPPORTED_LOSS', '__abstractmethods__', '__class__', '__delattr__', '__dict__', '__dir__', '__doc__', '__eq__', '__format__', '__ge__', '__getattribute__', '__getitem__', '__getstate__', '__gt__', '__hash__', '__init__', '__iter__', '__le__', '__len__', '__lt__', '__module__', '__ne__', '__new__', '__reduce__', '__reduce_ex__', '__repr__', '__setattr__', '__setstate__', '__sizeof__', '__str__', '__subclasshook__', '__weakref__', '_abc_cache', '_abc_negative_cache', '_abc_negative_cache_version', '_abc_registry', '_check_initialized', '_check_params', '_clear_state', '_decision_function', '_estimator_type', '_fit_stage', '_fit_stages', '_get_param_names', '_init_decision_function', '_init_state', '_is_initialized', '_make_estimator', '_resize_state', '_staged_decision_function', '_validate_estimator', '_validate_y', 'apply', 'decision_function', 'feature_importances_', 'fit', 'get_params', 'n_features', 'predict', 'predict_log_proba', 'predict_proba', 'score', 'set_params', 'staged_decision_function', 'staged_predict', 'staged_predict_proba']\n",
      "GradientBoostingClassifier(criterion='friedman_mse', init=None,\n",
      "              learning_rate=0.1, loss='deviance', max_depth=3,\n",
      "              max_features=None, max_leaf_nodes=None,\n",
      "              min_impurity_decrease=0.0, min_impurity_split=None,\n",
      "              min_samples_leaf=1, min_samples_split=2,\n",
      "              min_weight_fraction_leaf=0.0, n_estimators=100,\n",
      "              n_iter_no_change=None, presort='auto', random_state=None,\n",
      "              subsample=1.0, tol=0.0001, validation_fraction=0.1,\n",
      "              verbose=0, warm_start=False)\n"
     ]
    }
   ],
   "source": [
    "print(dir(GradientBoostingClassifier))\n",
    "print(GradientBoostingClassifier())"
   ]
  },
  {
   "cell_type": "markdown",
   "metadata": {},
   "source": [
    "### Building a Grid Search for Gradient Boosting"
   ]
  },
  {
   "cell_type": "code",
   "execution_count": 25,
   "metadata": {},
   "outputs": [],
   "source": [
    "def train_GB(est, max_depth, lr):\n",
    "    gb = GradientBoostingClassifier(n_estimators=est, max_depth=max_depth, learning_rate=lr)\n",
    "    gb_model = gb.fit(X_train, y_train)\n",
    "    y_pred2 = gb_model.predict(X_test)\n",
    "    precision2, recall2, fscore2, train_support2 = score(y_test, y_pred2, pos_label='spam', average='binary')\n",
    "    print('Est: {} / Depth: {} / LR: {} ---- Precision: {} / Recall: {} / Accuracy: {}'.format(\n",
    "        est, max_depth, lr, round(precision2, 3), round(recall2, 3), \n",
    "        round((y_pred2==y_test).sum()/len(y_pred2), 3)))"
   ]
  },
  {
   "cell_type": "code",
   "execution_count": 26,
   "metadata": {},
   "outputs": [
    {
     "name": "stdout",
     "output_type": "stream",
     "text": [
      "2019-06-05 20:47:23.311343\n"
     ]
    },
    {
     "name": "stderr",
     "output_type": "stream",
     "text": [
      "C:\\Users\\Abhi\\Anaconda3\\envs\\keraspy35\\lib\\site-packages\\sklearn\\metrics\\classification.py:1143: UndefinedMetricWarning: Precision and F-score are ill-defined and being set to 0.0 due to no predicted samples.\n",
      "  'precision', 'predicted', average, warn_for)\n"
     ]
    },
    {
     "name": "stdout",
     "output_type": "stream",
     "text": [
      "Est: 50 / Depth: 3 / LR: 0.01 ---- Precision: 0.0 / Recall: 0.0 / Accuracy: 0.87\n",
      "888.8270328044891\n",
      "2019-06-05 20:48:18.068335\n",
      "Est: 50 / Depth: 3 / LR: 0.1 ---- Precision: 0.933 / Recall: 0.772 / Accuracy: 0.963\n",
      "935.6992218494415\n",
      "2019-06-05 20:49:04.940525\n",
      "Est: 50 / Depth: 3 / LR: 1 ---- Precision: 0.891 / Recall: 0.786 / Accuracy: 0.96\n",
      "972.6200978755951\n",
      "2019-06-05 20:49:41.861401\n",
      "Est: 50 / Depth: 7 / LR: 0.01 ---- Precision: 1.0 / Recall: 0.007 / Accuracy: 0.871\n",
      "1086.8177649974823\n",
      "2019-06-05 20:51:36.059068\n",
      "Est: 50 / Depth: 7 / LR: 0.1 ---- Precision: 0.917 / Recall: 0.841 / Accuracy: 0.969\n",
      "1191.3979365825653\n",
      "2019-06-05 20:53:20.639239\n",
      "Est: 50 / Depth: 7 / LR: 1 ---- Precision: 0.881 / Recall: 0.814 / Accuracy: 0.961\n",
      "1257.8169362545013\n",
      "2019-06-05 20:54:27.058239\n",
      "Est: 50 / Depth: 11 / LR: 0.01 ---- Precision: 1.0 / Recall: 0.021 / Accuracy: 0.873\n",
      "1431.3586540222168\n",
      "2019-06-05 20:57:20.599957\n",
      "Est: 50 / Depth: 11 / LR: 0.1 ---- Precision: 0.89 / Recall: 0.834 / Accuracy: 0.965\n",
      "1593.4547584056854\n",
      "2019-06-05 21:00:02.696061\n",
      "Est: 50 / Depth: 11 / LR: 1 ---- Precision: 0.841 / Recall: 0.841 / Accuracy: 0.959\n",
      "1663.590631723404\n",
      "2019-06-05 21:01:12.831935\n",
      "Est: 50 / Depth: 15 / LR: 0.01 ---- Precision: 1.0 / Recall: 0.007 / Accuracy: 0.871\n",
      "1878.6416018009186\n",
      "2019-06-05 21:04:47.932875\n",
      "Est: 50 / Depth: 15 / LR: 0.1 ---- Precision: 0.884 / Recall: 0.841 / Accuracy: 0.965\n",
      "2100.0329418182373\n",
      "2019-06-05 21:08:29.274245\n",
      "Est: 50 / Depth: 15 / LR: 1 ---- Precision: 0.892 / Recall: 0.855 / Accuracy: 0.968\n",
      "2162.8080294132233\n",
      "2019-06-05 21:09:32.049332\n",
      "Est: 100 / Depth: 3 / LR: 0.01 ---- Precision: 0.951 / Recall: 0.538 / Accuracy: 0.936\n",
      "2260.5101335048676\n",
      "2019-06-05 21:11:09.751436\n",
      "Est: 100 / Depth: 3 / LR: 0.1 ---- Precision: 0.921 / Recall: 0.807 / Accuracy: 0.966\n",
      "2345.957248210907\n",
      "2019-06-05 21:12:35.198551\n",
      "Est: 100 / Depth: 3 / LR: 1 ---- Precision: 0.9 / Recall: 0.807 / Accuracy: 0.963\n",
      "2420.215765476227\n",
      "2019-06-05 21:13:49.457068\n",
      "Est: 100 / Depth: 7 / LR: 0.01 ---- Precision: 0.938 / Recall: 0.724 / Accuracy: 0.958\n",
      "2648.6600461006165\n",
      "2019-06-05 21:17:37.901349\n",
      "Est: 100 / Depth: 7 / LR: 0.1 ---- Precision: 0.92 / Recall: 0.869 / Accuracy: 0.973\n",
      "2825.2906391620636\n",
      "2019-06-05 21:20:34.531942\n",
      "Est: 100 / Depth: 7 / LR: 1 ---- Precision: 0.863 / Recall: 0.828 / Accuracy: 0.961\n",
      "2885.47980928421\n",
      "2019-06-05 21:21:34.721112\n",
      "Est: 100 / Depth: 11 / LR: 0.01 ---- Precision: 0.934 / Recall: 0.779 / Accuracy: 0.964\n",
      "3127.1247198581696\n",
      "2019-06-05 21:25:36.366023\n",
      "Est: 100 / Depth: 11 / LR: 0.1 ---- Precision: 0.887 / Recall: 0.862 / Accuracy: 0.968\n",
      "3326.231057882309\n",
      "2019-06-05 21:28:55.472361\n",
      "Est: 100 / Depth: 11 / LR: 1 ---- Precision: 0.851 / Recall: 0.828 / Accuracy: 0.959\n",
      "3370.705466032028\n",
      "2019-06-05 21:29:39.946769\n",
      "Est: 100 / Depth: 15 / LR: 0.01 ---- Precision: 0.949 / Recall: 0.772 / Accuracy: 0.965\n",
      "3677.7649822235107\n",
      "2019-06-05 21:34:47.006285\n",
      "Est: 100 / Depth: 15 / LR: 0.1 ---- Precision: 0.894 / Recall: 0.869 / Accuracy: 0.969\n",
      "3964.5357055664062\n",
      "2019-06-05 21:39:33.777008\n",
      "Est: 100 / Depth: 15 / LR: 1 ---- Precision: 0.88 / Recall: 0.862 / Accuracy: 0.967\n",
      "4004.657791852951\n",
      "2019-06-05 21:40:13.899095\n",
      "Est: 150 / Depth: 3 / LR: 0.01 ---- Precision: 0.944 / Recall: 0.586 / Accuracy: 0.942\n",
      "4108.952418804169\n",
      "2019-06-05 21:41:58.193722\n",
      "Est: 150 / Depth: 3 / LR: 0.1 ---- Precision: 0.923 / Recall: 0.828 / Accuracy: 0.969\n",
      "4198.711352109909\n",
      "2019-06-05 21:43:27.952655\n",
      "Est: 150 / Depth: 3 / LR: 1 ---- Precision: 0.901 / Recall: 0.814 / Accuracy: 0.964\n",
      "4278.209735393524\n",
      "2019-06-05 21:44:47.451038\n",
      "Est: 150 / Depth: 7 / LR: 0.01 ---- Precision: 0.94 / Recall: 0.759 / Accuracy: 0.962\n",
      "4521.241289138794\n",
      "2019-06-05 21:48:50.482592\n",
      "Est: 150 / Depth: 7 / LR: 0.1 ---- Precision: 0.92 / Recall: 0.869 / Accuracy: 0.973\n",
      "4715.584776878357\n",
      "2019-06-05 21:52:04.826080\n",
      "Est: 150 / Depth: 7 / LR: 1 ---- Precision: 0.876 / Recall: 0.828 / Accuracy: 0.962\n",
      "4757.728063583374\n",
      "2019-06-05 21:52:46.969366\n",
      "Est: 150 / Depth: 11 / LR: 0.01 ---- Precision: 0.914 / Recall: 0.807 / Accuracy: 0.965\n",
      "5123.900827407837\n",
      "2019-06-05 21:58:53.142130\n",
      "Est: 150 / Depth: 11 / LR: 0.1 ---- Precision: 0.887 / Recall: 0.862 / Accuracy: 0.968\n",
      "5428.642444372177\n",
      "2019-06-05 22:03:57.883747\n",
      "Est: 150 / Depth: 11 / LR: 1 ---- Precision: 0.864 / Recall: 0.834 / Accuracy: 0.961\n",
      "5475.486699342728\n",
      "2019-06-05 22:04:44.728002\n",
      "Est: 150 / Depth: 15 / LR: 0.01 ---- Precision: 0.951 / Recall: 0.807 / Accuracy: 0.969\n",
      "5940.604288816452\n",
      "2019-06-05 22:12:29.845592\n",
      "Est: 150 / Depth: 15 / LR: 0.1 ---- Precision: 0.913 / Recall: 0.869 / Accuracy: 0.972\n",
      "6348.844189405441\n",
      "2019-06-05 22:19:18.085492\n",
      "Est: 150 / Depth: 15 / LR: 1 ---- Precision: 0.887 / Recall: 0.862 / Accuracy: 0.968\n",
      "6385.107052087784\n",
      "2019-06-05 22:19:54.348355\n",
      "2019-06-05 22:19:54.456329\n"
     ]
    }
   ],
   "source": [
    "print(datetime.datetime.now())\n",
    "\n",
    "for n_est in [50, 100, 150]:\n",
    "    for max_depth in [3, 7, 11, 15]:\n",
    "        for lr in [0.01, 0.1, 1]:\n",
    "            train_GB(n_est, max_depth, lr)\n",
    "            end = time.time()\n",
    "            fit_time = (end - start)\n",
    "            print(fit_time)\n",
    "            print(datetime.datetime.now())\n",
    "            \n",
    "print(datetime.datetime.now())"
   ]
  },
  {
   "cell_type": "markdown",
   "metadata": {},
   "source": [
    "### Evaluating Gradient Boosting with GridSearchCV"
   ]
  },
  {
   "cell_type": "code",
   "execution_count": 27,
   "metadata": {},
   "outputs": [],
   "source": [
    "#from sklearn.model_selection import GridSearchCV\n",
    "\n",
    "gb2 = GradientBoostingClassifier()\n",
    "param = {\n",
    "    'n_estimators': [100, 150], \n",
    "    'max_depth': [7, 11, 15],\n",
    "    'learning_rate': [0.1]\n",
    "}\n",
    "\n",
    "clf = GridSearchCV(gb2, param, cv=5, n_jobs=-1)"
   ]
  },
  {
   "cell_type": "code",
   "execution_count": null,
   "metadata": {},
   "outputs": [
    {
     "name": "stdout",
     "output_type": "stream",
     "text": [
      "2019-06-05 22:19:54.752257\n"
     ]
    }
   ],
   "source": [
    "start = time.time()\n",
    "print(datetime.datetime.now())\n",
    "\n",
    "cv_fit = clf.fit(X_features, data['label'])\n",
    "pd.DataFrame(cv_fit.cv_results_).sort_values('mean_test_score', ascending=False)[0:5]"
   ]
  },
  {
   "cell_type": "code",
   "execution_count": null,
   "metadata": {},
   "outputs": [],
   "source": [
    "end = time.time()\n",
    "fit_time = (end - start)\n",
    "print(fit_time)\n",
    "print(datetime.datetime.now())"
   ]
  },
  {
   "cell_type": "code",
   "execution_count": null,
   "metadata": {},
   "outputs": [],
   "source": [
    "start = time.time()\n",
    "print(datetime.datetime.now())\n",
    "\n",
    "cv_fit = clf.fit(X_count_feat, data['label'])\n",
    "pd.DataFrame(cv_fit.cv_results_).sort_values('mean_test_score', ascending=False)[0:5]"
   ]
  },
  {
   "cell_type": "code",
   "execution_count": null,
   "metadata": {},
   "outputs": [],
   "source": [
    "end = time.time()\n",
    "fit_time = (end - start)\n",
    "print(fit_time)\n",
    "print(datetime.datetime.now())"
   ]
  },
  {
   "cell_type": "code",
   "execution_count": null,
   "metadata": {},
   "outputs": [],
   "source": []
  }
 ],
 "metadata": {
  "kernelspec": {
   "display_name": "Python 3",
   "language": "python",
   "name": "python3"
  },
  "language_info": {
   "codemirror_mode": {
    "name": "ipython",
    "version": 3
   },
   "file_extension": ".py",
   "mimetype": "text/x-python",
   "name": "python",
   "nbconvert_exporter": "python",
   "pygments_lexer": "ipython3",
   "version": "3.5.6"
  }
 },
 "nbformat": 4,
 "nbformat_minor": 2
}
